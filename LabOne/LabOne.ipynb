{
 "cells": [
  {
   "cell_type": "markdown",
   "metadata": {},
   "source": [
    "# **Lab One - Project Description**\n",
    "\n",
    "Names? UwU (づ｡◕‿‿◕｡)づ (づ｡◕‿‿◕｡)づ (づ｡◕‿‿◕｡)づ\n",
    "\n",
    "# **Business Understanding (1.5)**\n",
    "\n",
    "[1.5 points] In your own words, give an overview of the dataset. Describe the purpose of the data set you selected (i.e., why and how was this data collected in the first place?). What is the prediction task for your data and why are other third parties interested in the result? Once you begin modeling, how well would your prediction algorithm need to perform to be considered useful to these third parties?\n",
    "Be specific and use your own words to describe the aspects of the data.\n",
    "\n",
    "## **Data Understanding (3)**\n",
    "\n",
    "[1.5 points] Load the dataset and appropriately define data types. What data type should be used to represent each data attribute? Discuss the attributes collected in the dataset. For datasets with a large number of attributes, only discuss a subset of relevant attributes.  \n",
    "[1.5 points] Verify data quality: Explain any missing values or duplicate data. Visualize entries that are missing/complete for different attributes. Are those mistakes? Why do these quality issues exist in the data? How do you deal with these problems? Give justifications for your methods (elimination or imputation).  \n"
   ]
  },
  {
   "cell_type": "code",
   "execution_count": 10,
   "metadata": {},
   "outputs": [
    {
     "name": "stdout",
     "output_type": "stream",
     "text": [
      "Pandas: 2.0.3\n",
      "Numpy: 1.25.2\n",
      "Shape: (148670, 34)\n"
     ]
    },
    {
     "data": {
      "text/html": [
       "<div>\n",
       "<style scoped>\n",
       "    .dataframe tbody tr th:only-of-type {\n",
       "        vertical-align: middle;\n",
       "    }\n",
       "\n",
       "    .dataframe tbody tr th {\n",
       "        vertical-align: top;\n",
       "    }\n",
       "\n",
       "    .dataframe thead th {\n",
       "        text-align: right;\n",
       "    }\n",
       "</style>\n",
       "<table border=\"1\" class=\"dataframe\">\n",
       "  <thead>\n",
       "    <tr style=\"text-align: right;\">\n",
       "      <th></th>\n",
       "      <th>ID</th>\n",
       "      <th>year</th>\n",
       "      <th>loan_limit</th>\n",
       "      <th>Gender</th>\n",
       "      <th>approv_in_adv</th>\n",
       "      <th>loan_type</th>\n",
       "      <th>loan_purpose</th>\n",
       "      <th>Credit_Worthiness</th>\n",
       "      <th>open_credit</th>\n",
       "      <th>business_or_commercial</th>\n",
       "      <th>...</th>\n",
       "      <th>credit_type</th>\n",
       "      <th>Credit_Score</th>\n",
       "      <th>co-applicant_credit_type</th>\n",
       "      <th>age</th>\n",
       "      <th>submission_of_application</th>\n",
       "      <th>LTV</th>\n",
       "      <th>Region</th>\n",
       "      <th>Security_Type</th>\n",
       "      <th>Status</th>\n",
       "      <th>dtir1</th>\n",
       "    </tr>\n",
       "  </thead>\n",
       "  <tbody>\n",
       "    <tr>\n",
       "      <th>0</th>\n",
       "      <td>24890</td>\n",
       "      <td>2019</td>\n",
       "      <td>cf</td>\n",
       "      <td>Sex Not Available</td>\n",
       "      <td>nopre</td>\n",
       "      <td>type1</td>\n",
       "      <td>p1</td>\n",
       "      <td>l1</td>\n",
       "      <td>nopc</td>\n",
       "      <td>nob/c</td>\n",
       "      <td>...</td>\n",
       "      <td>EXP</td>\n",
       "      <td>758</td>\n",
       "      <td>CIB</td>\n",
       "      <td>25-34</td>\n",
       "      <td>to_inst</td>\n",
       "      <td>98.728814</td>\n",
       "      <td>south</td>\n",
       "      <td>direct</td>\n",
       "      <td>1</td>\n",
       "      <td>45.0</td>\n",
       "    </tr>\n",
       "    <tr>\n",
       "      <th>1</th>\n",
       "      <td>24891</td>\n",
       "      <td>2019</td>\n",
       "      <td>cf</td>\n",
       "      <td>Male</td>\n",
       "      <td>nopre</td>\n",
       "      <td>type2</td>\n",
       "      <td>p1</td>\n",
       "      <td>l1</td>\n",
       "      <td>nopc</td>\n",
       "      <td>b/c</td>\n",
       "      <td>...</td>\n",
       "      <td>EQUI</td>\n",
       "      <td>552</td>\n",
       "      <td>EXP</td>\n",
       "      <td>55-64</td>\n",
       "      <td>to_inst</td>\n",
       "      <td>NaN</td>\n",
       "      <td>North</td>\n",
       "      <td>direct</td>\n",
       "      <td>1</td>\n",
       "      <td>NaN</td>\n",
       "    </tr>\n",
       "    <tr>\n",
       "      <th>2</th>\n",
       "      <td>24892</td>\n",
       "      <td>2019</td>\n",
       "      <td>cf</td>\n",
       "      <td>Male</td>\n",
       "      <td>pre</td>\n",
       "      <td>type1</td>\n",
       "      <td>p1</td>\n",
       "      <td>l1</td>\n",
       "      <td>nopc</td>\n",
       "      <td>nob/c</td>\n",
       "      <td>...</td>\n",
       "      <td>EXP</td>\n",
       "      <td>834</td>\n",
       "      <td>CIB</td>\n",
       "      <td>35-44</td>\n",
       "      <td>to_inst</td>\n",
       "      <td>80.019685</td>\n",
       "      <td>south</td>\n",
       "      <td>direct</td>\n",
       "      <td>0</td>\n",
       "      <td>46.0</td>\n",
       "    </tr>\n",
       "    <tr>\n",
       "      <th>3</th>\n",
       "      <td>24893</td>\n",
       "      <td>2019</td>\n",
       "      <td>cf</td>\n",
       "      <td>Male</td>\n",
       "      <td>nopre</td>\n",
       "      <td>type1</td>\n",
       "      <td>p4</td>\n",
       "      <td>l1</td>\n",
       "      <td>nopc</td>\n",
       "      <td>nob/c</td>\n",
       "      <td>...</td>\n",
       "      <td>EXP</td>\n",
       "      <td>587</td>\n",
       "      <td>CIB</td>\n",
       "      <td>45-54</td>\n",
       "      <td>not_inst</td>\n",
       "      <td>69.376900</td>\n",
       "      <td>North</td>\n",
       "      <td>direct</td>\n",
       "      <td>0</td>\n",
       "      <td>42.0</td>\n",
       "    </tr>\n",
       "    <tr>\n",
       "      <th>4</th>\n",
       "      <td>24894</td>\n",
       "      <td>2019</td>\n",
       "      <td>cf</td>\n",
       "      <td>Joint</td>\n",
       "      <td>pre</td>\n",
       "      <td>type1</td>\n",
       "      <td>p1</td>\n",
       "      <td>l1</td>\n",
       "      <td>nopc</td>\n",
       "      <td>nob/c</td>\n",
       "      <td>...</td>\n",
       "      <td>CRIF</td>\n",
       "      <td>602</td>\n",
       "      <td>EXP</td>\n",
       "      <td>25-34</td>\n",
       "      <td>not_inst</td>\n",
       "      <td>91.886544</td>\n",
       "      <td>North</td>\n",
       "      <td>direct</td>\n",
       "      <td>0</td>\n",
       "      <td>39.0</td>\n",
       "    </tr>\n",
       "  </tbody>\n",
       "</table>\n",
       "<p>5 rows × 34 columns</p>\n",
       "</div>"
      ],
      "text/plain": [
       "      ID  year loan_limit             Gender approv_in_adv loan_type  \\\n",
       "0  24890  2019         cf  Sex Not Available         nopre     type1   \n",
       "1  24891  2019         cf               Male         nopre     type2   \n",
       "2  24892  2019         cf               Male           pre     type1   \n",
       "3  24893  2019         cf               Male         nopre     type1   \n",
       "4  24894  2019         cf              Joint           pre     type1   \n",
       "\n",
       "  loan_purpose Credit_Worthiness open_credit business_or_commercial  ...  \\\n",
       "0           p1                l1        nopc                  nob/c  ...   \n",
       "1           p1                l1        nopc                    b/c  ...   \n",
       "2           p1                l1        nopc                  nob/c  ...   \n",
       "3           p4                l1        nopc                  nob/c  ...   \n",
       "4           p1                l1        nopc                  nob/c  ...   \n",
       "\n",
       "   credit_type  Credit_Score  co-applicant_credit_type    age  \\\n",
       "0          EXP           758                       CIB  25-34   \n",
       "1         EQUI           552                       EXP  55-64   \n",
       "2          EXP           834                       CIB  35-44   \n",
       "3          EXP           587                       CIB  45-54   \n",
       "4         CRIF           602                       EXP  25-34   \n",
       "\n",
       "   submission_of_application        LTV Region Security_Type  Status dtir1  \n",
       "0                    to_inst  98.728814  south        direct       1  45.0  \n",
       "1                    to_inst        NaN  North        direct       1   NaN  \n",
       "2                    to_inst  80.019685  south        direct       0  46.0  \n",
       "3                   not_inst  69.376900  North        direct       0  42.0  \n",
       "4                   not_inst  91.886544  North        direct       0  39.0  \n",
       "\n",
       "[5 rows x 34 columns]"
      ]
     },
     "execution_count": 10,
     "metadata": {},
     "output_type": "execute_result"
    }
   ],
   "source": [
    "# Import Libraries\n",
    "import pandas as pd\n",
    "import numpy as np\n",
    "import matplotlib.pyplot as plt\n",
    "\n",
    "# Print Version\n",
    "print(\"Pandas:\", pd.__version__)\n",
    "print(\"Numpy:\", np.__version__)\n",
    "\n",
    "# Read CSV File (Load Dataset)\n",
    "ldData = pd.read_csv('Dataset/Loan_Default.csv')\n",
    "\n",
    "# Make Sure Data > 1K Rows\n",
    "print(\"Shape:\", ldData.shape)\n",
    "\n",
    "# Print Head (5 Rows)\n",
    "ldData.head()"
   ]
  },
  {
   "cell_type": "code",
   "execution_count": 2,
   "metadata": {},
   "outputs": [
    {
     "data": {
      "text/html": [
       "<div>\n",
       "<style scoped>\n",
       "    .dataframe tbody tr th:only-of-type {\n",
       "        vertical-align: middle;\n",
       "    }\n",
       "\n",
       "    .dataframe tbody tr th {\n",
       "        vertical-align: top;\n",
       "    }\n",
       "\n",
       "    .dataframe thead th {\n",
       "        text-align: right;\n",
       "    }\n",
       "</style>\n",
       "<table border=\"1\" class=\"dataframe\">\n",
       "  <thead>\n",
       "    <tr style=\"text-align: right;\">\n",
       "      <th></th>\n",
       "      <th>ID</th>\n",
       "      <th>year</th>\n",
       "      <th>loan_amount</th>\n",
       "      <th>rate_of_interest</th>\n",
       "      <th>Interest_rate_spread</th>\n",
       "      <th>Upfront_charges</th>\n",
       "      <th>term</th>\n",
       "      <th>property_value</th>\n",
       "      <th>income</th>\n",
       "      <th>Credit_Score</th>\n",
       "      <th>LTV</th>\n",
       "      <th>Status</th>\n",
       "      <th>dtir1</th>\n",
       "    </tr>\n",
       "  </thead>\n",
       "  <tbody>\n",
       "    <tr>\n",
       "      <th>count</th>\n",
       "      <td>148670.000000</td>\n",
       "      <td>148670.0</td>\n",
       "      <td>1.486700e+05</td>\n",
       "      <td>112231.000000</td>\n",
       "      <td>112031.000000</td>\n",
       "      <td>109028.000000</td>\n",
       "      <td>148629.000000</td>\n",
       "      <td>1.335720e+05</td>\n",
       "      <td>139520.000000</td>\n",
       "      <td>148670.000000</td>\n",
       "      <td>133572.000000</td>\n",
       "      <td>148670.000000</td>\n",
       "      <td>124549.000000</td>\n",
       "    </tr>\n",
       "    <tr>\n",
       "      <th>mean</th>\n",
       "      <td>99224.500000</td>\n",
       "      <td>2019.0</td>\n",
       "      <td>3.311177e+05</td>\n",
       "      <td>4.045476</td>\n",
       "      <td>0.441656</td>\n",
       "      <td>3224.996127</td>\n",
       "      <td>335.136582</td>\n",
       "      <td>4.978935e+05</td>\n",
       "      <td>6957.338876</td>\n",
       "      <td>699.789103</td>\n",
       "      <td>72.746457</td>\n",
       "      <td>0.246445</td>\n",
       "      <td>37.732932</td>\n",
       "    </tr>\n",
       "    <tr>\n",
       "      <th>std</th>\n",
       "      <td>42917.476598</td>\n",
       "      <td>0.0</td>\n",
       "      <td>1.839093e+05</td>\n",
       "      <td>0.561391</td>\n",
       "      <td>0.513043</td>\n",
       "      <td>3251.121510</td>\n",
       "      <td>58.409084</td>\n",
       "      <td>3.599353e+05</td>\n",
       "      <td>6496.586382</td>\n",
       "      <td>115.875857</td>\n",
       "      <td>39.967603</td>\n",
       "      <td>0.430942</td>\n",
       "      <td>10.545435</td>\n",
       "    </tr>\n",
       "    <tr>\n",
       "      <th>min</th>\n",
       "      <td>24890.000000</td>\n",
       "      <td>2019.0</td>\n",
       "      <td>1.650000e+04</td>\n",
       "      <td>0.000000</td>\n",
       "      <td>-3.638000</td>\n",
       "      <td>0.000000</td>\n",
       "      <td>96.000000</td>\n",
       "      <td>8.000000e+03</td>\n",
       "      <td>0.000000</td>\n",
       "      <td>500.000000</td>\n",
       "      <td>0.967478</td>\n",
       "      <td>0.000000</td>\n",
       "      <td>5.000000</td>\n",
       "    </tr>\n",
       "    <tr>\n",
       "      <th>25%</th>\n",
       "      <td>62057.250000</td>\n",
       "      <td>2019.0</td>\n",
       "      <td>1.965000e+05</td>\n",
       "      <td>3.625000</td>\n",
       "      <td>0.076000</td>\n",
       "      <td>581.490000</td>\n",
       "      <td>360.000000</td>\n",
       "      <td>2.680000e+05</td>\n",
       "      <td>3720.000000</td>\n",
       "      <td>599.000000</td>\n",
       "      <td>60.474860</td>\n",
       "      <td>0.000000</td>\n",
       "      <td>31.000000</td>\n",
       "    </tr>\n",
       "    <tr>\n",
       "      <th>50%</th>\n",
       "      <td>99224.500000</td>\n",
       "      <td>2019.0</td>\n",
       "      <td>2.965000e+05</td>\n",
       "      <td>3.990000</td>\n",
       "      <td>0.390400</td>\n",
       "      <td>2596.450000</td>\n",
       "      <td>360.000000</td>\n",
       "      <td>4.180000e+05</td>\n",
       "      <td>5760.000000</td>\n",
       "      <td>699.000000</td>\n",
       "      <td>75.135870</td>\n",
       "      <td>0.000000</td>\n",
       "      <td>39.000000</td>\n",
       "    </tr>\n",
       "    <tr>\n",
       "      <th>75%</th>\n",
       "      <td>136391.750000</td>\n",
       "      <td>2019.0</td>\n",
       "      <td>4.365000e+05</td>\n",
       "      <td>4.375000</td>\n",
       "      <td>0.775400</td>\n",
       "      <td>4812.500000</td>\n",
       "      <td>360.000000</td>\n",
       "      <td>6.280000e+05</td>\n",
       "      <td>8520.000000</td>\n",
       "      <td>800.000000</td>\n",
       "      <td>86.184211</td>\n",
       "      <td>0.000000</td>\n",
       "      <td>45.000000</td>\n",
       "    </tr>\n",
       "    <tr>\n",
       "      <th>max</th>\n",
       "      <td>173559.000000</td>\n",
       "      <td>2019.0</td>\n",
       "      <td>3.576500e+06</td>\n",
       "      <td>8.000000</td>\n",
       "      <td>3.357000</td>\n",
       "      <td>60000.000000</td>\n",
       "      <td>360.000000</td>\n",
       "      <td>1.650800e+07</td>\n",
       "      <td>578580.000000</td>\n",
       "      <td>900.000000</td>\n",
       "      <td>7831.250000</td>\n",
       "      <td>1.000000</td>\n",
       "      <td>61.000000</td>\n",
       "    </tr>\n",
       "  </tbody>\n",
       "</table>\n",
       "</div>"
      ],
      "text/plain": [
       "                  ID      year   loan_amount  rate_of_interest  \\\n",
       "count  148670.000000  148670.0  1.486700e+05     112231.000000   \n",
       "mean    99224.500000    2019.0  3.311177e+05          4.045476   \n",
       "std     42917.476598       0.0  1.839093e+05          0.561391   \n",
       "min     24890.000000    2019.0  1.650000e+04          0.000000   \n",
       "25%     62057.250000    2019.0  1.965000e+05          3.625000   \n",
       "50%     99224.500000    2019.0  2.965000e+05          3.990000   \n",
       "75%    136391.750000    2019.0  4.365000e+05          4.375000   \n",
       "max    173559.000000    2019.0  3.576500e+06          8.000000   \n",
       "\n",
       "       Interest_rate_spread  Upfront_charges           term  property_value  \\\n",
       "count         112031.000000    109028.000000  148629.000000    1.335720e+05   \n",
       "mean               0.441656      3224.996127     335.136582    4.978935e+05   \n",
       "std                0.513043      3251.121510      58.409084    3.599353e+05   \n",
       "min               -3.638000         0.000000      96.000000    8.000000e+03   \n",
       "25%                0.076000       581.490000     360.000000    2.680000e+05   \n",
       "50%                0.390400      2596.450000     360.000000    4.180000e+05   \n",
       "75%                0.775400      4812.500000     360.000000    6.280000e+05   \n",
       "max                3.357000     60000.000000     360.000000    1.650800e+07   \n",
       "\n",
       "              income   Credit_Score            LTV         Status  \\\n",
       "count  139520.000000  148670.000000  133572.000000  148670.000000   \n",
       "mean     6957.338876     699.789103      72.746457       0.246445   \n",
       "std      6496.586382     115.875857      39.967603       0.430942   \n",
       "min         0.000000     500.000000       0.967478       0.000000   \n",
       "25%      3720.000000     599.000000      60.474860       0.000000   \n",
       "50%      5760.000000     699.000000      75.135870       0.000000   \n",
       "75%      8520.000000     800.000000      86.184211       0.000000   \n",
       "max    578580.000000     900.000000    7831.250000       1.000000   \n",
       "\n",
       "               dtir1  \n",
       "count  124549.000000  \n",
       "mean       37.732932  \n",
       "std        10.545435  \n",
       "min         5.000000  \n",
       "25%        31.000000  \n",
       "50%        39.000000  \n",
       "75%        45.000000  \n",
       "max        61.000000  "
      ]
     },
     "execution_count": 2,
     "metadata": {},
     "output_type": "execute_result"
    }
   ],
   "source": [
    "# Check Data Summary\n",
    "ldData.describe()"
   ]
  },
  {
   "cell_type": "code",
   "execution_count": 8,
   "metadata": {},
   "outputs": [
    {
     "name": "stdout",
     "output_type": "stream",
     "text": [
      "ID                             int64\n",
      "year                           int64\n",
      "loan_limit                    object\n",
      "Gender                        object\n",
      "approv_in_adv                 object\n",
      "loan_type                     object\n",
      "loan_purpose                  object\n",
      "Credit_Worthiness             object\n",
      "open_credit                   object\n",
      "business_or_commercial        object\n",
      "loan_amount                    int64\n",
      "rate_of_interest             float64\n",
      "Interest_rate_spread         float64\n",
      "Upfront_charges              float64\n",
      "term                         float64\n",
      "Neg_ammortization             object\n",
      "interest_only                 object\n",
      "lump_sum_payment              object\n",
      "property_value               float64\n",
      "construction_type             object\n",
      "occupancy_type                object\n",
      "Secured_by                    object\n",
      "total_units                   object\n",
      "income                       float64\n",
      "credit_type                   object\n",
      "Credit_Score                   int64\n",
      "co-applicant_credit_type      object\n",
      "age                           object\n",
      "submission_of_application     object\n",
      "LTV                          float64\n",
      "Region                        object\n",
      "Security_Type                 object\n",
      "Status                         int64\n",
      "dtir1                        float64\n",
      "dtype: object\n"
     ]
    }
   ],
   "source": [
    "# Check Data Types\n",
    "print(ldData.dtypes)"
   ]
  },
  {
   "cell_type": "code",
   "execution_count": 7,
   "metadata": {},
   "outputs": [
    {
     "name": "stdout",
     "output_type": "stream",
     "text": [
      "<bound method DataFrame.info of             ID  year loan_limit             Gender approv_in_adv loan_type  \\\n",
      "0        24890  2019         cf  Sex Not Available         nopre     type1   \n",
      "1        24891  2019         cf               Male         nopre     type2   \n",
      "2        24892  2019         cf               Male           pre     type1   \n",
      "3        24893  2019         cf               Male         nopre     type1   \n",
      "4        24894  2019         cf              Joint           pre     type1   \n",
      "...        ...   ...        ...                ...           ...       ...   \n",
      "148665  173555  2019         cf  Sex Not Available         nopre     type1   \n",
      "148666  173556  2019         cf               Male         nopre     type1   \n",
      "148667  173557  2019         cf               Male         nopre     type1   \n",
      "148668  173558  2019         cf             Female         nopre     type1   \n",
      "148669  173559  2019         cf             Female         nopre     type1   \n",
      "\n",
      "       loan_purpose Credit_Worthiness open_credit business_or_commercial  ...  \\\n",
      "0                p1                l1        nopc                  nob/c  ...   \n",
      "1                p1                l1        nopc                    b/c  ...   \n",
      "2                p1                l1        nopc                  nob/c  ...   \n",
      "3                p4                l1        nopc                  nob/c  ...   \n",
      "4                p1                l1        nopc                  nob/c  ...   \n",
      "...             ...               ...         ...                    ...  ...   \n",
      "148665           p3                l1        nopc                  nob/c  ...   \n",
      "148666           p1                l1        nopc                  nob/c  ...   \n",
      "148667           p4                l1        nopc                  nob/c  ...   \n",
      "148668           p4                l1        nopc                  nob/c  ...   \n",
      "148669           p3                l1        nopc                  nob/c  ...   \n",
      "\n",
      "        credit_type  Credit_Score  co-applicant_credit_type    age  \\\n",
      "0               EXP           758                       CIB  25-34   \n",
      "1              EQUI           552                       EXP  55-64   \n",
      "2               EXP           834                       CIB  35-44   \n",
      "3               EXP           587                       CIB  45-54   \n",
      "4              CRIF           602                       EXP  25-34   \n",
      "...             ...           ...                       ...    ...   \n",
      "148665          CIB           659                       EXP  55-64   \n",
      "148666          CIB           569                       CIB  25-34   \n",
      "148667          CIB           702                       EXP  45-54   \n",
      "148668          EXP           737                       EXP  55-64   \n",
      "148669          CIB           830                       CIB  45-54   \n",
      "\n",
      "        submission_of_application        LTV Region Security_Type  Status  \\\n",
      "0                         to_inst  98.728814  south        direct       1   \n",
      "1                         to_inst        NaN  North        direct       1   \n",
      "2                         to_inst  80.019685  south        direct       0   \n",
      "3                        not_inst  69.376900  North        direct       0   \n",
      "4                        not_inst  91.886544  North        direct       0   \n",
      "...                           ...        ...    ...           ...     ...   \n",
      "148665                    to_inst  71.792763  south        direct       0   \n",
      "148666                   not_inst  74.428934  south        direct       0   \n",
      "148667                   not_inst  61.332418  North        direct       0   \n",
      "148668                    to_inst  70.683453  North        direct       0   \n",
      "148669                   not_inst  72.849462  North        direct       0   \n",
      "\n",
      "       dtir1  \n",
      "0       45.0  \n",
      "1        NaN  \n",
      "2       46.0  \n",
      "3       42.0  \n",
      "4       39.0  \n",
      "...      ...  \n",
      "148665  48.0  \n",
      "148666  15.0  \n",
      "148667  49.0  \n",
      "148668  29.0  \n",
      "148669  44.0  \n",
      "\n",
      "[148670 rows x 34 columns]>\n"
     ]
    }
   ],
   "source": [
    "# Print Columns, Rows\n",
    "print(ldData.info)"
   ]
  },
  {
   "cell_type": "code",
   "execution_count": 53,
   "metadata": {},
   "outputs": [
    {
     "name": "stdout",
     "output_type": "stream",
     "text": [
      "year : [2019]\n",
      "loan_limit : ['cf' nan 'ncf']\n",
      "Gender : ['Sex Not Available' 'Male' 'Joint' 'Female']\n",
      "approv_in_adv : ['nopre' 'pre' nan]\n",
      "loan_type : ['type1' 'type2' 'type3']\n",
      "loan_purpose : ['p1' 'p4' 'p3' 'p2' nan]\n",
      "Credit_Worthiness : ['l1' 'l2']\n",
      "open_credit : ['nopc' 'opc']\n",
      "business_or_commercial : ['nob/c' 'b/c']\n",
      "Neg_ammortization : ['not_neg' 'neg_amm' nan]\n",
      "interest_only : ['not_int' 'int_only']\n",
      "lump_sum_payment : ['not_lpsm' 'lpsm']\n",
      "construction_type : ['sb' 'mh']\n",
      "occupancy_type : ['pr' 'sr' 'ir']\n",
      "Secured_by : ['home' 'land']\n",
      "total_units : ['1U' '2U' '3U' '4U']\n",
      "credit_type : ['EXP' 'EQUI' 'CRIF' 'CIB']\n",
      "co-applicant_credit_type : ['CIB' 'EXP']\n",
      "age : ['25-34' '55-64' '35-44' '45-54' '65-74' '>74' '<25' nan]\n",
      "submission_of_application : ['to_inst' 'not_inst' nan]\n",
      "Region : ['south' 'North' 'central' 'North-East']\n",
      "Security_Type : ['direct' 'Indriect']\n",
      "Status : [1 0]\n"
     ]
    }
   ],
   "source": [
    "# Print Unique Values For Each Column\n",
    "for col in ldData[ldData.nunique()[ldData.nunique() < 10].keys()]:\n",
    "    print(col, \":\", ldData[col].unique())\n",
    "\n",
    "# Note: Need To Evict Nan Values"
   ]
  },
  {
   "cell_type": "code",
   "execution_count": 57,
   "metadata": {},
   "outputs": [
    {
     "name": "stdout",
     "output_type": "stream",
     "text": [
      "ID : 148670\n",
      "loan_amount : 211\n",
      "rate_of_interest : 131\n",
      "Interest_rate_spread : 22516\n",
      "Upfront_charges : 58271\n",
      "term : 26\n",
      "property_value : 385\n",
      "income : 1001\n",
      "Credit_Score : 401\n",
      "LTV : 8484\n",
      "dtir1 : 57\n"
     ]
    }
   ],
   "source": [
    "# Print Unique Values For Each Column\n",
    "for col in ldData[ldData.nunique()[ldData.nunique() >= 10].keys()]:\n",
    "    print(col, \":\", ldData[col].nunique())\n",
    "\n",
    "# Note: Check Outliers (There Are Many)"
   ]
  },
  {
   "cell_type": "code",
   "execution_count": 59,
   "metadata": {},
   "outputs": [],
   "source": [
    "# Remove Irrelevant Columns\n",
    "for col in ['ID', 'year']:\n",
    "    if col in ldData:\n",
    "        del ldData[col]"
   ]
  },
  {
   "cell_type": "markdown",
   "metadata": {},
   "source": [
    "## **Questions we might want to ask:**\n",
    "- Which Columns Should Be Converted To One Hot\n",
    "- Which Columns Should Be Removed\n",
    "- Classification: Will Loan Borrower Default or Not"
   ]
  },
  {
   "cell_type": "code",
   "execution_count": 10,
   "metadata": {},
   "outputs": [
    {
     "data": {
      "text/plain": [
       "ID                               0\n",
       "year                             0\n",
       "loan_limit                    3344\n",
       "Gender                           0\n",
       "approv_in_adv                  908\n",
       "loan_type                        0\n",
       "loan_purpose                   134\n",
       "Credit_Worthiness                0\n",
       "open_credit                      0\n",
       "business_or_commercial           0\n",
       "loan_amount                      0\n",
       "rate_of_interest             36439\n",
       "Interest_rate_spread         36639\n",
       "Upfront_charges              39642\n",
       "term                            41\n",
       "Neg_ammortization              121\n",
       "interest_only                    0\n",
       "lump_sum_payment                 0\n",
       "property_value               15098\n",
       "construction_type                0\n",
       "occupancy_type                   0\n",
       "Secured_by                       0\n",
       "total_units                      0\n",
       "income                        9150\n",
       "credit_type                      0\n",
       "Credit_Score                     0\n",
       "co-applicant_credit_type         0\n",
       "age                            200\n",
       "submission_of_application      200\n",
       "LTV                          15098\n",
       "Region                           0\n",
       "Security_Type                    0\n",
       "Status                           0\n",
       "dtir1                        24121\n",
       "dtype: int64"
      ]
     },
     "execution_count": 10,
     "metadata": {},
     "output_type": "execute_result"
    }
   ],
   "source": [
    "# Find Columns with Missing Values\n",
    "ldData.isnull().sum()"
   ]
  },
  {
   "cell_type": "code",
   "execution_count": 14,
   "metadata": {},
   "outputs": [
    {
     "data": {
      "text/plain": [
       "open_credit\n",
       "nopc    148114\n",
       "opc        556\n",
       "Name: count, dtype: int64"
      ]
     },
     "execution_count": 14,
     "metadata": {},
     "output_type": "execute_result"
    }
   ],
   "source": [
    "# Check Frequency Feature Values In Columns\n",
    "ldData['open_credit'].value_counts()"
   ]
  },
  {
   "cell_type": "code",
   "execution_count": 18,
   "metadata": {},
   "outputs": [
    {
     "name": "stdout",
     "output_type": "stream",
     "text": [
      "['rate_of_interest', 'Interest_rate_spread', 'Upfront_charges', 'term', 'property_value', 'income', 'LTV', 'dtir1']\n"
     ]
    },
    {
     "data": {
      "text/html": [
       "<div>\n",
       "<style scoped>\n",
       "    .dataframe tbody tr th:only-of-type {\n",
       "        vertical-align: middle;\n",
       "    }\n",
       "\n",
       "    .dataframe tbody tr th {\n",
       "        vertical-align: top;\n",
       "    }\n",
       "\n",
       "    .dataframe thead th {\n",
       "        text-align: right;\n",
       "    }\n",
       "</style>\n",
       "<table border=\"1\" class=\"dataframe\">\n",
       "  <thead>\n",
       "    <tr style=\"text-align: right;\">\n",
       "      <th></th>\n",
       "      <th>rate_of_interest</th>\n",
       "      <th>Interest_rate_spread</th>\n",
       "      <th>Upfront_charges</th>\n",
       "      <th>term</th>\n",
       "      <th>property_value</th>\n",
       "      <th>income</th>\n",
       "      <th>LTV</th>\n",
       "      <th>dtir1</th>\n",
       "    </tr>\n",
       "  </thead>\n",
       "  <tbody>\n",
       "    <tr>\n",
       "      <th>0</th>\n",
       "      <td>NaN</td>\n",
       "      <td>NaN</td>\n",
       "      <td>NaN</td>\n",
       "      <td>360.0</td>\n",
       "      <td>118000.0</td>\n",
       "      <td>1740.0</td>\n",
       "      <td>98.728814</td>\n",
       "      <td>45.0</td>\n",
       "    </tr>\n",
       "    <tr>\n",
       "      <th>1</th>\n",
       "      <td>NaN</td>\n",
       "      <td>NaN</td>\n",
       "      <td>NaN</td>\n",
       "      <td>360.0</td>\n",
       "      <td>NaN</td>\n",
       "      <td>4980.0</td>\n",
       "      <td>NaN</td>\n",
       "      <td>NaN</td>\n",
       "    </tr>\n",
       "    <tr>\n",
       "      <th>2</th>\n",
       "      <td>4.560</td>\n",
       "      <td>0.2000</td>\n",
       "      <td>595.00</td>\n",
       "      <td>360.0</td>\n",
       "      <td>508000.0</td>\n",
       "      <td>9480.0</td>\n",
       "      <td>80.019685</td>\n",
       "      <td>46.0</td>\n",
       "    </tr>\n",
       "    <tr>\n",
       "      <th>3</th>\n",
       "      <td>4.250</td>\n",
       "      <td>0.6810</td>\n",
       "      <td>NaN</td>\n",
       "      <td>360.0</td>\n",
       "      <td>658000.0</td>\n",
       "      <td>11880.0</td>\n",
       "      <td>69.376900</td>\n",
       "      <td>42.0</td>\n",
       "    </tr>\n",
       "    <tr>\n",
       "      <th>4</th>\n",
       "      <td>4.000</td>\n",
       "      <td>0.3042</td>\n",
       "      <td>0.00</td>\n",
       "      <td>360.0</td>\n",
       "      <td>758000.0</td>\n",
       "      <td>10440.0</td>\n",
       "      <td>91.886544</td>\n",
       "      <td>39.0</td>\n",
       "    </tr>\n",
       "    <tr>\n",
       "      <th>...</th>\n",
       "      <td>...</td>\n",
       "      <td>...</td>\n",
       "      <td>...</td>\n",
       "      <td>...</td>\n",
       "      <td>...</td>\n",
       "      <td>...</td>\n",
       "      <td>...</td>\n",
       "      <td>...</td>\n",
       "    </tr>\n",
       "    <tr>\n",
       "      <th>148665</th>\n",
       "      <td>3.125</td>\n",
       "      <td>0.2571</td>\n",
       "      <td>9960.00</td>\n",
       "      <td>180.0</td>\n",
       "      <td>608000.0</td>\n",
       "      <td>7860.0</td>\n",
       "      <td>71.792763</td>\n",
       "      <td>48.0</td>\n",
       "    </tr>\n",
       "    <tr>\n",
       "      <th>148666</th>\n",
       "      <td>5.190</td>\n",
       "      <td>0.8544</td>\n",
       "      <td>0.00</td>\n",
       "      <td>360.0</td>\n",
       "      <td>788000.0</td>\n",
       "      <td>7140.0</td>\n",
       "      <td>74.428934</td>\n",
       "      <td>15.0</td>\n",
       "    </tr>\n",
       "    <tr>\n",
       "      <th>148667</th>\n",
       "      <td>3.125</td>\n",
       "      <td>0.0816</td>\n",
       "      <td>1226.64</td>\n",
       "      <td>180.0</td>\n",
       "      <td>728000.0</td>\n",
       "      <td>6900.0</td>\n",
       "      <td>61.332418</td>\n",
       "      <td>49.0</td>\n",
       "    </tr>\n",
       "    <tr>\n",
       "      <th>148668</th>\n",
       "      <td>3.500</td>\n",
       "      <td>0.5824</td>\n",
       "      <td>4323.33</td>\n",
       "      <td>180.0</td>\n",
       "      <td>278000.0</td>\n",
       "      <td>7140.0</td>\n",
       "      <td>70.683453</td>\n",
       "      <td>29.0</td>\n",
       "    </tr>\n",
       "    <tr>\n",
       "      <th>148669</th>\n",
       "      <td>4.375</td>\n",
       "      <td>1.3871</td>\n",
       "      <td>6000.00</td>\n",
       "      <td>240.0</td>\n",
       "      <td>558000.0</td>\n",
       "      <td>7260.0</td>\n",
       "      <td>72.849462</td>\n",
       "      <td>44.0</td>\n",
       "    </tr>\n",
       "  </tbody>\n",
       "</table>\n",
       "<p>148670 rows × 8 columns</p>\n",
       "</div>"
      ],
      "text/plain": [
       "        rate_of_interest  Interest_rate_spread  Upfront_charges   term  \\\n",
       "0                    NaN                   NaN              NaN  360.0   \n",
       "1                    NaN                   NaN              NaN  360.0   \n",
       "2                  4.560                0.2000           595.00  360.0   \n",
       "3                  4.250                0.6810              NaN  360.0   \n",
       "4                  4.000                0.3042             0.00  360.0   \n",
       "...                  ...                   ...              ...    ...   \n",
       "148665             3.125                0.2571          9960.00  180.0   \n",
       "148666             5.190                0.8544             0.00  360.0   \n",
       "148667             3.125                0.0816          1226.64  180.0   \n",
       "148668             3.500                0.5824          4323.33  180.0   \n",
       "148669             4.375                1.3871          6000.00  240.0   \n",
       "\n",
       "        property_value   income        LTV  dtir1  \n",
       "0             118000.0   1740.0  98.728814   45.0  \n",
       "1                  NaN   4980.0        NaN    NaN  \n",
       "2             508000.0   9480.0  80.019685   46.0  \n",
       "3             658000.0  11880.0  69.376900   42.0  \n",
       "4             758000.0  10440.0  91.886544   39.0  \n",
       "...                ...      ...        ...    ...  \n",
       "148665        608000.0   7860.0  71.792763   48.0  \n",
       "148666        788000.0   7140.0  74.428934   15.0  \n",
       "148667        728000.0   6900.0  61.332418   49.0  \n",
       "148668        278000.0   7140.0  70.683453   29.0  \n",
       "148669        558000.0   7260.0  72.849462   44.0  \n",
       "\n",
       "[148670 rows x 8 columns]"
      ]
     },
     "execution_count": 18,
     "metadata": {},
     "output_type": "execute_result"
    }
   ],
   "source": [
    "continious_cols=[col for col in ldData.columns if ldData[col].dtype == \"float64\"]\n",
    "print(continious_cols)\n",
    "ldData[continious_cols]"
   ]
  },
  {
   "cell_type": "code",
   "execution_count": 19,
   "metadata": {},
   "outputs": [
    {
     "data": {
      "image/png": "[encoded data removed]",
      "text/plain": [
       "<Figure size 1600x600 with 8 Axes>"
      ]
     },
     "metadata": {},
     "output_type": "display_data"
    }
   ],
   "source": [
    "import seaborn as sns\n",
    "\n",
    "indexes=[]\n",
    "for i in range(2):\n",
    "    for j in range(4):\n",
    "        indexes.append([i,j])\n",
    "# Create a figure with a single row and multiple columns\n",
    "fig, axes = plt.subplots(ncols=4,nrows=2,figsize=(16, 6))\n",
    "\n",
    "for l in range(len(continious_cols)):\n",
    "    sns.histplot(data=ldData,x=str(continious_cols[l]),ax=axes[indexes[l][0],indexes[l][1]])\n",
    "\n",
    "plt.tight_layout()\n",
    "plt.show()"
   ]
  },
  {
   "cell_type": "markdown",
   "metadata": {},
   "source": [
    "## Grouping the Data"
   ]
  },
  {
   "cell_type": "code",
   "execution_count": 14,
   "metadata": {},
   "outputs": [
    {
     "name": "stdout",
     "output_type": "stream",
     "text": [
      "There were 216 people traveling in 1 class.\n",
      "There were 184 people traveling in 2 class.\n",
      "There were 491 people traveling in 3 class.\n"
     ]
    }
   ],
   "source": [
    "# Lets aggregate by class and count survival rates\n",
    "df_grouped = df.groupby(by='Pclass')\n",
    "\n",
    "for val,grp in df_grouped:\n",
    "    print(f'There were {len(grp)} people traveling in {val} class.')"
   ]
  },
  {
   "cell_type": "code",
   "execution_count": 15,
   "metadata": {},
   "outputs": [
    {
     "name": "stdout",
     "output_type": "stream",
     "text": [
      "Pclass\n",
      "1    136\n",
      "2     87\n",
      "3    119\n",
      "Name: Survived, dtype: int64\n",
      "---------------------------------------\n",
      "Pclass\n",
      "1    216\n",
      "2    184\n",
      "3    491\n",
      "Name: Survived, dtype: int64\n",
      "---------------------------------------\n",
      "Pclass\n",
      "1    0.629630\n",
      "2    0.472826\n",
      "3    0.242363\n",
      "Name: Survived, dtype: float64\n"
     ]
    }
   ],
   "source": [
    "# an example of using the groupby function with a data column\n",
    "print(df_grouped['Survived'].sum())\n",
    "print('---------------------------------------')\n",
    "print(df_grouped.Survived.count())\n",
    "print('---------------------------------------')\n",
    "print(df_grouped.Survived.sum() / df_grouped.Survived.count())\n",
    "\n",
    "# might there be a better way of displaying this data?"
   ]
  },
  {
   "cell_type": "markdown",
   "metadata": {},
   "source": [
    "Class Exercise 📝: "
   ]
  },
  {
   "cell_type": "code",
   "execution_count": 16,
   "metadata": {},
   "outputs": [],
   "source": [
    "# Class Exercise: Create code for calculating the std error\n",
    "# std / sqrt(N) \n"
   ]
  },
  {
   "cell_type": "markdown",
   "metadata": {},
   "source": [
    "___________\n",
    "# Cleaning the Dataset\n",
    "Let's start by visualizing some of the missing data in this dataset. We will use the `missingno` package to help visualize where the data contains `NaNs`. This is a great tool for looking at nan values and how we might go about filling in the values. \n",
    "\n",
    "For this visualization, we can use a visualization library called `missingno` that hs many types of visuals for looking at missing data in a dataframe. I particularly like the `matrix` visualization, but there are many more to explore:\n",
    "- https://github.com/ResidentMario/missingno\n",
    "\n",
    "### Plot Type One: Filter Bar"
   ]
  },
  {
   "cell_type": "code",
   "execution_count": 17,
   "metadata": {},
   "outputs": [
    {
     "ename": "ValueError",
     "evalue": "keyword grid_b is not recognized; valid keywords are ['size', 'width', 'color', 'tickdir', 'pad', 'labelsize', 'labelcolor', 'zorder', 'gridOn', 'tick1On', 'tick2On', 'label1On', 'label2On', 'length', 'direction', 'left', 'bottom', 'right', 'top', 'labelleft', 'labelbottom', 'labelright', 'labeltop', 'labelrotation', 'grid_agg_filter', 'grid_alpha', 'grid_animated', 'grid_antialiased', 'grid_clip_box', 'grid_clip_on', 'grid_clip_path', 'grid_color', 'grid_dash_capstyle', 'grid_dash_joinstyle', 'grid_dashes', 'grid_data', 'grid_drawstyle', 'grid_figure', 'grid_fillstyle', 'grid_gapcolor', 'grid_gid', 'grid_in_layout', 'grid_label', 'grid_linestyle', 'grid_linewidth', 'grid_marker', 'grid_markeredgecolor', 'grid_markeredgewidth', 'grid_markerfacecolor', 'grid_markerfacecoloralt', 'grid_markersize', 'grid_markevery', 'grid_mouseover', 'grid_path_effects', 'grid_picker', 'grid_pickradius', 'grid_rasterized', 'grid_sketch_params', 'grid_snap', 'grid_solid_capstyle', 'grid_solid_joinstyle', 'grid_transform', 'grid_url', 'grid_visible', 'grid_xdata', 'grid_ydata', 'grid_zorder', 'grid_aa', 'grid_c', 'grid_ds', 'grid_ls', 'grid_lw', 'grid_mec', 'grid_mew', 'grid_mfc', 'grid_mfcalt', 'grid_ms']",
     "output_type": "error",
     "traceback": [
      "\u001b[1;31m---------------------------------------------------------------------------\u001b[0m",
      "\u001b[1;31mValueError\u001b[0m                                Traceback (most recent call last)",
      "Cell \u001b[1;32mIn[17], line 11\u001b[0m\n\u001b[0;32m      8\u001b[0m \u001b[39m# External package: conda install missingno \u001b[39;00m\n\u001b[0;32m      9\u001b[0m \u001b[39mimport\u001b[39;00m \u001b[39mmissingno\u001b[39;00m \u001b[39mas\u001b[39;00m \u001b[39mmn\u001b[39;00m\n\u001b[1;32m---> 11\u001b[0m mn\u001b[39m.\u001b[39;49mmatrix(df)\n\u001b[0;32m     12\u001b[0m plt\u001b[39m.\u001b[39mtitle(\u001b[39m\"\u001b[39m\u001b[39mNot Sorted\u001b[39m\u001b[39m\"\u001b[39m,fontsize\u001b[39m=\u001b[39m\u001b[39m22\u001b[39m)\n\u001b[0;32m     14\u001b[0m plt\u001b[39m.\u001b[39mfigure()\n",
      "File \u001b[1;32mc:\\Users\\trevo\\anaconda3\\envs\\classes\\lib\\site-packages\\missingno\\missingno.py:72\u001b[0m, in \u001b[0;36mmatrix\u001b[1;34m(df, filter, n, p, sort, figsize, width_ratios, color, fontsize, labels, sparkline, inline, freq, ax)\u001b[0m\n\u001b[0;32m     70\u001b[0m \u001b[39m# Remove extraneous default visual elements.\u001b[39;00m\n\u001b[0;32m     71\u001b[0m ax0\u001b[39m.\u001b[39mset_aspect(\u001b[39m'\u001b[39m\u001b[39mauto\u001b[39m\u001b[39m'\u001b[39m)\n\u001b[1;32m---> 72\u001b[0m ax0\u001b[39m.\u001b[39;49mgrid(b\u001b[39m=\u001b[39;49m\u001b[39mFalse\u001b[39;49;00m)\n\u001b[0;32m     73\u001b[0m ax0\u001b[39m.\u001b[39mxaxis\u001b[39m.\u001b[39mtick_top()\n\u001b[0;32m     74\u001b[0m ax0\u001b[39m.\u001b[39mxaxis\u001b[39m.\u001b[39mset_ticks_position(\u001b[39m'\u001b[39m\u001b[39mnone\u001b[39m\u001b[39m'\u001b[39m)\n",
      "File \u001b[1;32mc:\\Users\\trevo\\anaconda3\\envs\\classes\\lib\\site-packages\\matplotlib\\axes\\_base.py:3194\u001b[0m, in \u001b[0;36m_AxesBase.grid\u001b[1;34m(self, visible, which, axis, **kwargs)\u001b[0m\n\u001b[0;32m   3192\u001b[0m _api\u001b[39m.\u001b[39mcheck_in_list([\u001b[39m'\u001b[39m\u001b[39mx\u001b[39m\u001b[39m'\u001b[39m, \u001b[39m'\u001b[39m\u001b[39my\u001b[39m\u001b[39m'\u001b[39m, \u001b[39m'\u001b[39m\u001b[39mboth\u001b[39m\u001b[39m'\u001b[39m], axis\u001b[39m=\u001b[39maxis)\n\u001b[0;32m   3193\u001b[0m \u001b[39mif\u001b[39;00m axis \u001b[39min\u001b[39;00m [\u001b[39m'\u001b[39m\u001b[39mx\u001b[39m\u001b[39m'\u001b[39m, \u001b[39m'\u001b[39m\u001b[39mboth\u001b[39m\u001b[39m'\u001b[39m]:\n\u001b[1;32m-> 3194\u001b[0m     \u001b[39mself\u001b[39m\u001b[39m.\u001b[39mxaxis\u001b[39m.\u001b[39mgrid(visible, which\u001b[39m=\u001b[39mwhich, \u001b[39m*\u001b[39m\u001b[39m*\u001b[39mkwargs)\n\u001b[0;32m   3195\u001b[0m \u001b[39mif\u001b[39;00m axis \u001b[39min\u001b[39;00m [\u001b[39m'\u001b[39m\u001b[39my\u001b[39m\u001b[39m'\u001b[39m, \u001b[39m'\u001b[39m\u001b[39mboth\u001b[39m\u001b[39m'\u001b[39m]:\n\u001b[0;32m   3196\u001b[0m     \u001b[39mself\u001b[39m\u001b[39m.\u001b[39myaxis\u001b[39m.\u001b[39mgrid(visible, which\u001b[39m=\u001b[39mwhich, \u001b[39m*\u001b[39m\u001b[39m*\u001b[39mkwargs)\n",
      "File \u001b[1;32mc:\\Users\\trevo\\anaconda3\\envs\\classes\\lib\\site-packages\\matplotlib\\axis.py:1660\u001b[0m, in \u001b[0;36mAxis.grid\u001b[1;34m(self, visible, which, **kwargs)\u001b[0m\n\u001b[0;32m   1657\u001b[0m \u001b[39mif\u001b[39;00m which \u001b[39min\u001b[39;00m [\u001b[39m'\u001b[39m\u001b[39mmajor\u001b[39m\u001b[39m'\u001b[39m, \u001b[39m'\u001b[39m\u001b[39mboth\u001b[39m\u001b[39m'\u001b[39m]:\n\u001b[0;32m   1658\u001b[0m     gridkw[\u001b[39m'\u001b[39m\u001b[39mgridOn\u001b[39m\u001b[39m'\u001b[39m] \u001b[39m=\u001b[39m (\u001b[39mnot\u001b[39;00m \u001b[39mself\u001b[39m\u001b[39m.\u001b[39m_major_tick_kw[\u001b[39m'\u001b[39m\u001b[39mgridOn\u001b[39m\u001b[39m'\u001b[39m]\n\u001b[0;32m   1659\u001b[0m                         \u001b[39mif\u001b[39;00m visible \u001b[39mis\u001b[39;00m \u001b[39mNone\u001b[39;00m \u001b[39melse\u001b[39;00m visible)\n\u001b[1;32m-> 1660\u001b[0m     \u001b[39mself\u001b[39m\u001b[39m.\u001b[39mset_tick_params(which\u001b[39m=\u001b[39m\u001b[39m'\u001b[39m\u001b[39mmajor\u001b[39m\u001b[39m'\u001b[39m, \u001b[39m*\u001b[39m\u001b[39m*\u001b[39mgridkw)\n\u001b[0;32m   1661\u001b[0m \u001b[39mself\u001b[39m\u001b[39m.\u001b[39mstale \u001b[39m=\u001b[39m \u001b[39mTrue\u001b[39;00m\n",
      "File \u001b[1;32mc:\\Users\\trevo\\anaconda3\\envs\\classes\\lib\\site-packages\\matplotlib\\axis.py:932\u001b[0m, in \u001b[0;36mAxis.set_tick_params\u001b[1;34m(self, which, reset, **kwargs)\u001b[0m\n\u001b[0;32m    919\u001b[0m \u001b[39m\u001b[39m\u001b[39m\"\"\"\u001b[39;00m\n\u001b[0;32m    920\u001b[0m \u001b[39mSet appearance parameters for ticks, ticklabels, and gridlines.\u001b[39;00m\n\u001b[0;32m    921\u001b[0m \n\u001b[1;32m   (...)\u001b[0m\n\u001b[0;32m    929\u001b[0m \u001b[39m    gridlines.\u001b[39;00m\n\u001b[0;32m    930\u001b[0m \u001b[39m\"\"\"\u001b[39;00m\n\u001b[0;32m    931\u001b[0m _api\u001b[39m.\u001b[39mcheck_in_list([\u001b[39m'\u001b[39m\u001b[39mmajor\u001b[39m\u001b[39m'\u001b[39m, \u001b[39m'\u001b[39m\u001b[39mminor\u001b[39m\u001b[39m'\u001b[39m, \u001b[39m'\u001b[39m\u001b[39mboth\u001b[39m\u001b[39m'\u001b[39m], which\u001b[39m=\u001b[39mwhich)\n\u001b[1;32m--> 932\u001b[0m kwtrans \u001b[39m=\u001b[39m \u001b[39mself\u001b[39;49m\u001b[39m.\u001b[39;49m_translate_tick_params(kwargs)\n\u001b[0;32m    934\u001b[0m \u001b[39m# the kwargs are stored in self._major/minor_tick_kw so that any\u001b[39;00m\n\u001b[0;32m    935\u001b[0m \u001b[39m# future new ticks will automatically get them\u001b[39;00m\n\u001b[0;32m    936\u001b[0m \u001b[39mif\u001b[39;00m reset:\n",
      "File \u001b[1;32mc:\\Users\\trevo\\anaconda3\\envs\\classes\\lib\\site-packages\\matplotlib\\axis.py:1076\u001b[0m, in \u001b[0;36mAxis._translate_tick_params\u001b[1;34m(kw, reverse)\u001b[0m\n\u001b[0;32m   1074\u001b[0m \u001b[39mfor\u001b[39;00m key \u001b[39min\u001b[39;00m kw_:\n\u001b[0;32m   1075\u001b[0m     \u001b[39mif\u001b[39;00m key \u001b[39mnot\u001b[39;00m \u001b[39min\u001b[39;00m allowed_keys:\n\u001b[1;32m-> 1076\u001b[0m         \u001b[39mraise\u001b[39;00m \u001b[39mValueError\u001b[39;00m(\n\u001b[0;32m   1077\u001b[0m             \u001b[39m\"\u001b[39m\u001b[39mkeyword \u001b[39m\u001b[39m%s\u001b[39;00m\u001b[39m is not recognized; valid keywords are \u001b[39m\u001b[39m%s\u001b[39;00m\u001b[39m\"\u001b[39m\n\u001b[0;32m   1078\u001b[0m             \u001b[39m%\u001b[39m (key, allowed_keys))\n\u001b[0;32m   1079\u001b[0m kwtrans\u001b[39m.\u001b[39mupdate(kw_)\n\u001b[0;32m   1080\u001b[0m \u001b[39mreturn\u001b[39;00m kwtrans\n",
      "\u001b[1;31mValueError\u001b[0m: keyword grid_b is not recognized; valid keywords are ['size', 'width', 'color', 'tickdir', 'pad', 'labelsize', 'labelcolor', 'zorder', 'gridOn', 'tick1On', 'tick2On', 'label1On', 'label2On', 'length', 'direction', 'left', 'bottom', 'right', 'top', 'labelleft', 'labelbottom', 'labelright', 'labeltop', 'labelrotation', 'grid_agg_filter', 'grid_alpha', 'grid_animated', 'grid_antialiased', 'grid_clip_box', 'grid_clip_on', 'grid_clip_path', 'grid_color', 'grid_dash_capstyle', 'grid_dash_joinstyle', 'grid_dashes', 'grid_data', 'grid_drawstyle', 'grid_figure', 'grid_fillstyle', 'grid_gapcolor', 'grid_gid', 'grid_in_layout', 'grid_label', 'grid_linestyle', 'grid_linewidth', 'grid_marker', 'grid_markeredgecolor', 'grid_markeredgewidth', 'grid_markerfacecolor', 'grid_markerfacecoloralt', 'grid_markersize', 'grid_markevery', 'grid_mouseover', 'grid_path_effects', 'grid_picker', 'grid_pickradius', 'grid_rasterized', 'grid_sketch_params', 'grid_snap', 'grid_solid_capstyle', 'grid_solid_joinstyle', 'grid_transform', 'grid_url', 'grid_visible', 'grid_xdata', 'grid_ydata', 'grid_zorder', 'grid_aa', 'grid_c', 'grid_ds', 'grid_ls', 'grid_lw', 'grid_mec', 'grid_mew', 'grid_mfc', 'grid_mfcalt', 'grid_ms']"
     ]
    },
    {
     "data": {
      "image/png": "[encoded data removed]",
      "text/plain": [
       "<Figure size 2500x1000 with 2 Axes>"
      ]
     },
     "metadata": {},
     "output_type": "display_data"
    }
   ],
   "source": [
    "# this python magics will allow plot to be embedded into the notebook\n",
    "import matplotlib\n",
    "import matplotlib.pyplot as plt\n",
    "import warnings\n",
    "warnings.simplefilter('ignore', DeprecationWarning)\n",
    "%matplotlib inline \n",
    "\n",
    "# External package: conda install missingno \n",
    "import missingno as mn\n",
    "\n",
    "mn.matrix(df)\n",
    "plt.title(\"Not Sorted\",fontsize=22)\n",
    "\n",
    "plt.figure()\n",
    "mn.matrix(df.sort_values(by=[\"Cabin\",\"Age\"]))\n",
    "plt.title(\"Sorted\",fontsize=22)\n",
    "plt.show()"
   ]
  },
  {
   "cell_type": "code",
   "execution_count": 18,
   "metadata": {},
   "outputs": [
    {
     "name": "stdout",
     "output_type": "stream",
     "text": [
      "<class 'pandas.core.frame.DataFrame'>\n",
      "RangeIndex: 891 entries, 0 to 890\n",
      "Data columns (total 8 columns):\n",
      " #   Column    Non-Null Count  Dtype  \n",
      "---  ------    --------------  -----  \n",
      " 0   Survived  891 non-null    int64  \n",
      " 1   Pclass    891 non-null    int64  \n",
      " 2   Sex       891 non-null    object \n",
      " 3   Age       714 non-null    float64\n",
      " 4   SibSp     891 non-null    int64  \n",
      " 5   Parch     891 non-null    int64  \n",
      " 6   Fare      891 non-null    float64\n",
      " 7   Embarked  889 non-null    object \n",
      "dtypes: float64(2), int64(4), object(2)\n",
      "memory usage: 55.8+ KB\n"
     ]
    }
   ],
   "source": [
    "# let's clean the dataset a little before moving on\n",
    "\n",
    "# 1. Remove attributes that just arent useful for us\n",
    "for col in ['PassengerId','Name','Cabin','Ticket']:\n",
    "    if col in df:\n",
    "        del df[col]\n",
    "        \n",
    "df.info()"
   ]
  },
  {
   "cell_type": "markdown",
   "metadata": {},
   "source": [
    "## Imputation Techniques \n",
    "Let's compare two different techniques from lecture on how to fill in missing data. Recall that imputation should be done with a great deal of caution. Here, the Age variable seems to be missing about 15% of the values. That might be too many to impute. Let's try two methods of imputation on the Age variable: \n",
    "- Split-Imput-Combine (SIC)\n",
    "- K-Nearest Neighbor Imputation (KNN)\n",
    "\n",
    "**Self Test ML2a.0** \n",
    "What is a difference between the Split-Impute-Combine (SIC) Technique and the K-Nearest Neighbor (KNN) Imputation Technique:\n",
    "- SIC imputes values based on distances, KNN does not\n",
    "- SIC uses discrete groupings of instances, KNN does not\n",
    "- KNN does not use statistics like median, mode, or mean to fill in values, SIC does\n",
    "- There is no difference in the two techniques \n",
    "\n",
    "### Split-Impute-Combine in Pandas"
   ]
  },
  {
   "cell_type": "code",
   "execution_count": 19,
   "metadata": {},
   "outputs": [
    {
     "name": "stdout",
     "output_type": "stream",
     "text": [
      "<class 'pandas.core.frame.DataFrame'>\n",
      "Index: 880 entries, 0 to 890\n",
      "Data columns (total 8 columns):\n",
      " #   Column    Non-Null Count  Dtype  \n",
      "---  ------    --------------  -----  \n",
      " 0   Survived  880 non-null    int64  \n",
      " 1   Age       880 non-null    float64\n",
      " 2   Sex       880 non-null    object \n",
      " 3   Parch     880 non-null    int64  \n",
      " 4   SibSp     880 non-null    int64  \n",
      " 5   Pclass    880 non-null    int64  \n",
      " 6   Fare      880 non-null    float64\n",
      " 7   Embarked  880 non-null    object \n",
      "dtypes: float64(2), int64(4), object(2)\n",
      "memory usage: 61.9+ KB\n"
     ]
    }
   ],
   "source": [
    "# This code is for split, impute, combine\n",
    "#     let's clean the dataset a little before moving on\n",
    "\n",
    "\n",
    "# Impute some missing values, grouped by their Pclass and SibSp numbers, \n",
    "# then use this grouping to fill the data set in each group, then transform back\n",
    "\n",
    "\n",
    "df_grouped = df.groupby(by=['Survived','Pclass','SibSp','Parch']) # perform the grouping of thing related to 'age'\n",
    "func = lambda grp: grp.fillna(grp.mean()) # within groups, fill using median (define function to do this)\n",
    "numeric_columns = ['Survived','Age','Parch','SibSp','Pclass','Fare'] # only transform numeric columns\n",
    "df_imputed_sic = df_grouped[numeric_columns].transform(func) # apply impute and transform the data back\n",
    "\n",
    "# Extra step: fill any object columns that could not be transformed\n",
    "col_deleted = list( set(df.columns) - set(df_imputed_sic.columns)) # in case the median operation deleted columns\n",
    "df_imputed_sic[col_deleted] = df[col_deleted]\n",
    "\n",
    "# drop any rows that still had missing values after grouped imputation\n",
    "df_imputed_sic.dropna(inplace=True)\n",
    "\n",
    "# 5. Rearrange the columns\n",
    "df_imputed_sic = df_imputed_sic[['Survived','Age','Sex','Parch','SibSp','Pclass','Fare','Embarked']]\n",
    "df_imputed_sic.info()"
   ]
  },
  {
   "cell_type": "markdown",
   "metadata": {},
   "source": [
    "### Nearest Neighbor Imputation with Scikit-learn\n",
    "Now let's try to fill in the Age variable by selecting the 3 nearest data points to the given observation. Here, we can use additional variables in the distance calculation, as compared to the need for discrete variable in the split-impute-combine method. "
   ]
  },
  {
   "cell_type": "code",
   "execution_count": 20,
   "metadata": {},
   "outputs": [
    {
     "name": "stdout",
     "output_type": "stream",
     "text": [
      "<class 'pandas.core.frame.DataFrame'>\n",
      "Index: 889 entries, 0 to 890\n",
      "Data columns (total 8 columns):\n",
      " #   Column    Non-Null Count  Dtype  \n",
      "---  ------    --------------  -----  \n",
      " 0   Survived  889 non-null    float64\n",
      " 1   Pclass    889 non-null    float64\n",
      " 2   Sex       889 non-null    object \n",
      " 3   Age       889 non-null    float64\n",
      " 4   SibSp     889 non-null    float64\n",
      " 5   Parch     889 non-null    float64\n",
      " 6   Fare      889 non-null    float64\n",
      " 7   Embarked  889 non-null    object \n",
      "dtypes: float64(6), object(2)\n",
      "memory usage: 62.5+ KB\n"
     ]
    }
   ],
   "source": [
    "# impute based upon the K closest samples (rows)\n",
    "# our first introduction to sklearn!!!\n",
    "from sklearn.impute import KNNImputer\n",
    "import copy\n",
    "\n",
    "# get object for imputation\n",
    "knn_obj = KNNImputer(n_neighbors=3)\n",
    "\n",
    "features_to_use = ['Pclass','Age','SibSp','Parch','Fare','Survived']\n",
    "\n",
    "# create a numpy matrix from pandas numeric values to impute\n",
    "temp = df[features_to_use].to_numpy()\n",
    "\n",
    "# use sklearn imputation object\n",
    "knn_obj.fit(temp) # fit the object\n",
    "temp_imputed = knn_obj.transform(temp) # transform all mssing data\n",
    "#    could have also done:\n",
    "# temp_imputed = knn_obj.fit_transform(temp)\n",
    "\n",
    "# this is VERY IMPORTANT, make a deep copy, not just a reference to the object\n",
    "# otherwise both data frames will be manipulated\n",
    "df_imputed = copy.deepcopy(df) # not just an alias\n",
    "df_imputed[features_to_use] = temp_imputed\n",
    "df_imputed.dropna(inplace=True)\n",
    "df_imputed.info()"
   ]
  },
  {
   "cell_type": "code",
   "execution_count": 21,
   "metadata": {},
   "outputs": [
    {
     "name": "stdout",
     "output_type": "stream",
     "text": [
      "6\n"
     ]
    }
   ],
   "source": [
    "# properties of the imputer after fitting\n",
    "print(knn_obj.n_features_in_)"
   ]
  },
  {
   "cell_type": "markdown",
   "metadata": {},
   "source": [
    "### Comparing Imputation Distributions \n",
    "Now let's see whihc imputation method changed the overall histogram the least. **Do you see anything in the plots below that would give preference in one method over another?**"
   ]
  },
  {
   "cell_type": "code",
   "execution_count": 22,
   "metadata": {},
   "outputs": [
    {
     "data": {
      "image/png": "[encoded data removed]",
      "text/plain": [
       "<Figure size 1600x500 with 2 Axes>"
      ]
     },
     "metadata": {},
     "output_type": "display_data"
    }
   ],
   "source": [
    "# let's show some very basic plotting to be sure the data looks about the same\n",
    "# Which imputation did better? The Split-Apply-Combine, or Nearest Neighbor Imputer? \n",
    "f = plt.figure(figsize=(16,5))\n",
    "\n",
    "bin_num = 30\n",
    "plt.subplot(1,2,1)\n",
    "df_imputed_sic.Age.plot(kind='hist', alpha=0.25, \n",
    "                        label=\"Split-Impute-Combine\",\n",
    "                        bins=bin_num)\n",
    "\n",
    "df.Age.plot(kind='hist', alpha=0.25, \n",
    "                        label=\"Original\",\n",
    "                        bins=bin_num)\n",
    "plt.legend()\n",
    "plt.ylim([0, 150])\n",
    "\n",
    "plt.subplot(1,2,2)\n",
    "df_imputed.Age.plot(kind='hist', alpha=0.25, \n",
    "                        label=\"KNN-Imputer\",\n",
    "                        bins=bin_num)\n",
    "\n",
    "df.Age.plot(kind='hist', alpha=0.25, \n",
    "                        label=\"Original\",\n",
    "                        bins=bin_num)\n",
    "plt.legend()\n",
    "plt.ylim([0, 150])\n",
    "\n",
    "plt.show()"
   ]
  },
  {
   "cell_type": "markdown",
   "metadata": {},
   "source": [
    "________________\n",
    "**[End of Demo for Data Quality Lecture]**\n",
    "\n",
    "**[Back to Slides]**\n",
    "\n",
    "**[Start Visualization Lecture]**\n",
    "\n",
    "# Feature Discretization\n",
    "This is an example of how to make a continuous feature and ordinal feature. Let's try to give some human intuition to a variable by grouping the data by age. \n",
    "\n",
    "**Question: Does age range influence survival rates?**"
   ]
  },
  {
   "cell_type": "code",
   "execution_count": 23,
   "metadata": {},
   "outputs": [
    {
     "data": {
      "text/plain": [
       "count       889\n",
       "unique        5\n",
       "top       adult\n",
       "freq        448\n",
       "Name: age_range, dtype: object"
      ]
     },
     "execution_count": 23,
     "metadata": {},
     "output_type": "execute_result"
    }
   ],
   "source": [
    "# let's break up the age variable into a discrete new variable\n",
    "df_imputed['age_range'] = pd.cut(df_imputed['Age'],\n",
    "                                 [0,4,13,19,35,1e6],\n",
    "                                 labels=['toddler','child','teen','adult','elder']) # this creates a new variable\n",
    "df_imputed.age_range.describe()"
   ]
  },
  {
   "cell_type": "code",
   "execution_count": 25,
   "metadata": {},
   "outputs": [
    {
     "name": "stdout",
     "output_type": "stream",
     "text": [
      "Percentage of survivors in each group:\n",
      "Pclass  age_range\n",
      "1.0     toddler       66.666667\n",
      "        child        100.000000\n",
      "        teen          82.352941\n",
      "        adult         75.000000\n",
      "        elder         52.800000\n",
      "2.0     toddler      100.000000\n",
      "        child        100.000000\n",
      "        teen          47.058824\n",
      "        adult         42.857143\n",
      "        elder         37.254902\n",
      "3.0     toddler       52.000000\n",
      "        child         37.037037\n",
      "        teen          34.285714\n",
      "        adult         23.404255\n",
      "        elder          6.896552\n",
      "Name: Survived, dtype: float64\n"
     ]
    },
    {
     "data": {
      "text/plain": [
       "Pclass  age_range\n",
       "1.0     toddler        3\n",
       "        child          1\n",
       "        teen          17\n",
       "        adult         68\n",
       "        elder        125\n",
       "2.0     toddler       12\n",
       "        child          6\n",
       "        teen          17\n",
       "        adult         98\n",
       "        elder         51\n",
       "3.0     toddler       25\n",
       "        child         27\n",
       "        teen          70\n",
       "        adult        282\n",
       "        elder         87\n",
       "Name: Survived, dtype: int64"
      ]
     },
     "execution_count": 25,
     "metadata": {},
     "output_type": "execute_result"
    }
   ],
   "source": [
    "# now lets group with the new variable\n",
    "df_grouped = df_imputed.groupby(by=['Pclass','age_range'])\n",
    "print (\"Percentage of survivors in each group:\")\n",
    "print (df_grouped.Survived.sum() / df_grouped.Survived.count() *100)\n",
    "df_grouped.Survived.count()"
   ]
  },
  {
   "cell_type": "markdown",
   "metadata": {
    "slideshow": {
     "slide_type": "slide"
    }
   },
   "source": [
    "__________\n",
    "___________\n",
    "# Visualization in Python with Pandas, Matplotlib, and Others"
   ]
  },
  {
   "cell_type": "code",
   "execution_count": 26,
   "metadata": {},
   "outputs": [
    {
     "name": "stdout",
     "output_type": "stream",
     "text": [
      "Matplotlib: 3.7.1\n"
     ]
    }
   ],
   "source": [
    "# this python magics will allow plot to be embedded into the notebook\n",
    "import matplotlib\n",
    "import matplotlib.pyplot as plt\n",
    "import warnings\n",
    "warnings.simplefilter('ignore', DeprecationWarning)\n",
    "%matplotlib inline \n",
    "\n",
    "print('Matplotlib:', matplotlib. __version__)\n",
    "# could also say \"%matplotlib notebook\" here to make things interactive\n",
    "# but in my expereince, this is a littel buggy and won't save the \n",
    "# HTML of the visual proper;y"
   ]
  },
  {
   "cell_type": "markdown",
   "metadata": {},
   "source": [
    "___________\n",
    "## Visualizing the dataset"
   ]
  },
  {
   "cell_type": "markdown",
   "metadata": {},
   "source": [
    "Pandas has plenty of plotting abilities built in. Let's take a look at a few of the different graphing capabilities of Pandas with only matplotlib. Afterward, we can make the visualizations more beautiful.\n",
    "\n",
    "### Visualization Techniques: Distributions\n",
    "- Histogram \n",
    " - Usually shows the distribution of values of a single variable\n",
    " - Divide the values into bins and show a bar plot of the number of objects in each bin. \n",
    "- Kernel Density Estimation\n",
    " - Add up Gaussian underneath each point value\n",
    " - STD of gaussian is visually related to \"number of bins\" for a histogram\n",
    " \n",
    " **KDE Example:** \n",
    " <img src=\"PDF_slides/kernels.gif\" alt=\"TukeyBoxplot\" width=\"400\" height=\"400\" loading=\"lazy\">\n",
    " \n",
    " ___\n",
    " \n",
    " \n",
    " #### Plot Type Two: Histogram and Kernel Density\n",
    " \n",
    " **Question: What were the ages of people on the Titanic?**"
   ]
  },
  {
   "cell_type": "code",
   "execution_count": 27,
   "metadata": {},
   "outputs": [
    {
     "data": {
      "image/png": "[encoded data removed]",
      "text/plain": [
       "<Figure size 1500x500 with 4 Axes>"
      ]
     },
     "metadata": {},
     "output_type": "display_data"
    }
   ],
   "source": [
    "# Start by just plotting what we previously grouped!\n",
    "plt.style.use('ggplot')\n",
    "\n",
    "fig = plt.figure(figsize=(15,5))\n",
    "\n",
    "plt.subplot(1,3,1)\n",
    "df_imputed.Age.plot.hist(bins=20)\n",
    "plt.title('Histogram, 20 bins')\n",
    "\n",
    "plt.subplot(1,3,2)\n",
    "df_imputed.Age.plot.kde(bw_method=0.2)\n",
    "plt.title('Kernel Density, 0.2 bandwidth')\n",
    "\n",
    "plt.subplot(1,3,3)\n",
    "df_imputed.Age.plot.hist(bins=50)\n",
    "df_imputed.Age.plot.kde(bw_method=0.05, secondary_y=True)\n",
    "plt.title('Hist and KDE, 50 bins and 0.05 bw')\n",
    "\n",
    "# remember that visualization is interpretted, it supports evidence.\n",
    "# plt.ylim([0, 0.06])\n",
    "\n",
    "plt.show()"
   ]
  },
  {
   "cell_type": "code",
   "execution_count": null,
   "metadata": {},
   "outputs": [],
   "source": [
    "from ipywidgets import widgets  # make this interactive!\n",
    "\n",
    "def plot_kde(bw):\n",
    "    df_imputed.Age.plot.kde(bw_method=bw)\n",
    "    plt.title(f\"Bandwidth = {bw:.2f}\")\n",
    "    \n",
    "widgets.interact(plot_kde, bw=(0.01, 0.51, 0.05), __manual=True) "
   ]
  },
  {
   "cell_type": "markdown",
   "metadata": {},
   "source": [
    "### Two-Dimensional Distributions\n",
    "- Estimate the joint distribution of the values of two attributes \n",
    " - Example: petal width and petal length\n",
    "  - What does this tell us? \n",
    "  \n",
    " **Question: How does age relate to the fare that was paid?**"
   ]
  },
  {
   "cell_type": "code",
   "execution_count": null,
   "metadata": {},
   "outputs": [],
   "source": [
    "plt.hist2d(x=df_imputed.Age, y=df_imputed.Fare, bins=30)\n",
    "plt.colorbar()\n",
    "plt.xlabel(\"Age\")\n",
    "plt.ylabel(\"Fare\")\n",
    "plt.show()"
   ]
  },
  {
   "cell_type": "markdown",
   "metadata": {},
   "source": [
    "The above plot is not all that meaningful. We can probably do better than visualizing the joint distribution using 2D histograms. Let's face it: 2D histrogram are bound to be sparse and not very descriptive. Instead, let's do something smarter.\n",
    "\n",
    "## Feature Correlation Plot\n",
    " - First lets visualize the correlation between the different features.\n",
    " \n",
    "  #### Plot Type Three: Heatmap (of correlation)"
   ]
  },
  {
   "cell_type": "code",
   "execution_count": null,
   "metadata": {},
   "outputs": [],
   "source": [
    "# plot the correlation matrix \n",
    "vars_to_use = ['Survived', 'Age', 'Parch', 'SibSp', 'Pclass', 'Fare'] # pick vars\n",
    "plt.pcolor(df_imputed[vars_to_use].corr()) # do the feature correlation plot\n",
    "\n",
    "# fill in the indices\n",
    "plt.yticks(np.arange(0.5, len(vars_to_use), 1), vars_to_use)\n",
    "plt.xticks(np.arange(0.5, len(vars_to_use), 1), vars_to_use)\n",
    "plt.colorbar()\n",
    "plt.show()"
   ]
  },
  {
   "cell_type": "markdown",
   "metadata": {},
   "source": [
    "### Grouped Count Plots\n",
    "Used when you have multiple categorical or nominal variables that you want to show together in sub-groups. Grouping mean to display the counts of different subgroups on the dataset. For the titanic data, this can be quite telling of the dataset.\n",
    "\n",
    "**Question: Does age, gender, or class have an effect on survival?**\n",
    "\n",
    " #### Plot Type Four: Grouped Bar Chart"
   ]
  },
  {
   "cell_type": "code",
   "execution_count": null,
   "metadata": {},
   "outputs": [],
   "source": [
    "# first group the data\n",
    "df_grouped = df_imputed.groupby(by=['Pclass','age_range'])\n",
    "\n",
    "# tabulate survival rates of each group\n",
    "survival_rate = df_grouped.Survived.sum() / df_grouped.Survived.count()\n",
    "\n",
    "# show in a bar chart using builtin pandas API\n",
    "ax = survival_rate.plot(kind='barh')\n",
    "plt.title('Survival Percentages by Class and Age Range')\n",
    "plt.show()"
   ]
  },
  {
   "cell_type": "code",
   "execution_count": null,
   "metadata": {},
   "outputs": [],
   "source": [
    "# the cross tab operator provides an easy way to get these numbers\n",
    "survival = pd.crosstab([df_imputed['Pclass'],\n",
    "                        df_imputed['age_range']], # categories to cross tabulate\n",
    "                       df_imputed.Survived.astype(bool)) # how to group\n",
    "print(survival)\n",
    "\n",
    "survival.plot(kind='barh', stacked=True)\n",
    "plt.show()"
   ]
  },
  {
   "cell_type": "code",
   "execution_count": null,
   "metadata": {},
   "outputs": [],
   "source": [
    "# plot overall cross tab with both groups\n",
    "plt.figure(figsize=(15,3))\n",
    "ax1 = plt.subplot(1,3,1)\n",
    "ax2 = plt.subplot(1,3,2)\n",
    "ax3 = plt.subplot(1,3,3)\n",
    "\n",
    "pd.crosstab([df_imputed['Pclass']], # categories to cross tabulate\n",
    "            df_imputed.Survived.astype(bool)).plot(kind='bar', stacked=True, ax=ax1) \n",
    "\n",
    "pd.crosstab([df_imputed['age_range']], # categories to cross tabulate\n",
    "            df_imputed.Survived.astype(bool)).plot(kind='bar', stacked=True, ax=ax2) \n",
    "\n",
    "pd.crosstab([df_imputed['Sex']], # categories to cross tabulate\n",
    "            df_imputed.Survived.astype(bool)).plot(kind='bar', stacked=True, ax=ax3) \n",
    "\n",
    "plt.show()"
   ]
  },
  {
   "cell_type": "markdown",
   "metadata": {},
   "source": [
    "### Sub-group Distribution Plots\n",
    "- Box Plots \n",
    " - Invented by J. Tukey\n",
    " - Another way of displaying the distribution of data \n",
    " - Following figure shows the basic part of a box plot:\n",
    " \n",
    "<img src=\"data/TukeyPlot.png\" alt=\"TukeyBoxplot\" width=\"600\" height=\"600\">\n",
    "\n",
    " #### Plot Type Five: Box Plot"
   ]
  },
  {
   "cell_type": "code",
   "execution_count": null,
   "metadata": {},
   "outputs": [],
   "source": [
    "ax = df_imputed.boxplot(column='Fare', by = 'Pclass') # group by class\n",
    "plt.ylabel('Fare')\n",
    "plt.title('')\n",
    "# ax.set_yscale('log') # so that the boxplots are not squished"
   ]
  },
  {
   "cell_type": "markdown",
   "metadata": {},
   "source": [
    "The problem with boxplots is that they might hide important aspects of the ditribution. For example, this plot shows data that all have the exact same boxplot.\n",
    "\n",
    "<img src=\"https://i.redd.it/cad7mdrg9wez.gif\" alt=\"TukeyBoxplot\" width=\"600\" >"
   ]
  },
  {
   "cell_type": "markdown",
   "metadata": {},
   "source": [
    "# Simplifying Plotting with Seaborn\n",
    "\n",
    "\n",
    "Using pandas and matplotlib is great until you need to redo or make more intricate plots. Let's see about one or two APIs that might simplify our lives. First, let's use Seaborn.\n",
    "+ `import seaborn as sns` \n",
    "\n",
    "In seaborn, we have access to a number of different plotting tools. Let's take a look at:\n",
    " #### Plot Type Six:\n",
    "- Box Plots\n",
    "- Swarm Plots\n",
    "- Violin Plots"
   ]
  },
  {
   "cell_type": "code",
   "execution_count": null,
   "metadata": {},
   "outputs": [],
   "source": [
    "import seaborn as sns\n",
    "# cmap = sns.diverging_palette(220, 10, as_cmap=True) # one of the many color mappings\n",
    "\n",
    "print('Seaborn:', sns. __version__)\n",
    "# now try plotting some of the previous plots, way more visually appealing!!"
   ]
  },
  {
   "cell_type": "code",
   "execution_count": null,
   "metadata": {},
   "outputs": [],
   "source": [
    "# sns boxplot\n",
    "plt.subplots(figsize=(20, 5))\n",
    "\n",
    "plt.subplot(1,3,1)\n",
    "sns.boxplot(x=\"Sex\", y=\"Age\", hue=\"Survived\", data=df_imputed)\n",
    "plt.title('Boxplot Example')\n",
    "\n",
    "plt.subplot(1,3,2)\n",
    "sns.violinplot(x=\"Sex\", y=\"Age\", hue=\"Survived\", data=df_imputed)\n",
    "plt.title('Violin Example')\n",
    "\n",
    "plt.subplot(1,3,3)\n",
    "sns.swarmplot(x=\"Sex\", y=\"Age\", hue=\"Survived\", data=df_imputed, s=3) # s controls marker size (like bins or bw)\n",
    "plt.title('Swarm Example')\n",
    "\n",
    "plt.show()"
   ]
  },
  {
   "cell_type": "code",
   "execution_count": null,
   "metadata": {},
   "outputs": [],
   "source": [
    "if False:\n",
    "    # ASIDE: UGH so much repeated code, can we do \"better\"?\n",
    "    # this uses slick python functionality as the cost of readability\n",
    "    plt.subplots(figsize=(20, 5))\n",
    "    args = {'x':\"Sex\", 'y':\"Age\", 'hue':\"Survived\", 'data':df_imputed}\n",
    "    for i, plot_func in enumerate([sns.boxplot, sns.violinplot, sns.swarmplot]):\n",
    "        plt.subplot(1,3,i+1)\n",
    "        plot_func(**args) # more compact, LESS readable\n",
    "\n",
    "    plt.show()"
   ]
  },
  {
   "cell_type": "code",
   "execution_count": null,
   "metadata": {},
   "outputs": [],
   "source": [
    "sns.violinplot(x=\"Sex\", y=\"Age\", hue=\"Survived\", data=df_imputed, \n",
    "               split=True, # split across violins\n",
    "               inner=\"quart\", # show innner stats like mena, IQR, \n",
    "               scale=\"count\") # scale the size of the plot by the count within each group\n",
    "\n",
    "plt.show()"
   ]
  },
  {
   "cell_type": "markdown",
   "metadata": {},
   "source": [
    "________\n",
    "\n",
    "\n",
    "### Self Test 2a.2\n",
    "<img src=\"data/self_test_2a_2.png\" alt=\"TukeyBoxplot\" width=\"500\" height=\"500\">\n",
    "\n"
   ]
  },
  {
   "cell_type": "markdown",
   "metadata": {},
   "source": [
    "____\n",
    "### Matrix Plots\n",
    "- Plot some data from a matrix\n",
    "- This can be useful when objects are sorted well\n",
    "- Typically, the attributes are normalized to prevent one attribute from dominating the plot\n",
    "- Plots of similarity or distance matrices can also be useful for visualizing the relationships between objects\n",
    "- Two versions:\n",
    " - Feature Based\n",
    " - Instance Based\n",
    " \n",
    " **Question: Which features are most similar to each other?**"
   ]
  },
  {
   "cell_type": "code",
   "execution_count": null,
   "metadata": {},
   "outputs": [],
   "source": [
    "# the correlation plot is Feature based becasue we get\n",
    "# a place in the plot for each feature\n",
    "# in this plot we are asking, what features are most correlated? \n",
    "cmap = sns.set(style=\"darkgrid\") # one of the many styles to plot using\n",
    "\n",
    "f, ax = plt.subplots(figsize=(8, 8))\n",
    "sns.heatmap(df_imputed[vars_to_use].corr(), cmap=cmap, annot=True)\n",
    "\n",
    "# f.tight_layout()"
   ]
  },
  {
   "cell_type": "markdown",
   "metadata": {},
   "source": [
    "\n",
    "____\n",
    "\n",
    "**New Question: Which passengers are most similar to one another?**"
   ]
  },
  {
   "cell_type": "code",
   "execution_count": null,
   "metadata": {},
   "outputs": [],
   "source": [
    "# but we could also be asking, what instances are most similar to each other?\n",
    "\n",
    "# NOTE: Correlation here is defined as a distance metric by scipy \n",
    "# https://docs.scipy.org/doc/scipy-0.14.0/reference/generated/scipy.spatial.distance.correlation.html \n",
    "# it is defined as 1-CC, so '0' means highly correlated\n",
    "\n",
    "from sklearn.metrics.pairwise import pairwise_distances\n",
    "\n",
    "vars_to_use = [ 'Age', 'Pclass', 'Fare', 'SibSp','Parch'] # pick vars\n",
    "\n",
    "xdata = pairwise_distances(df_imputed[vars_to_use].to_numpy(), # get numpy matrix\n",
    "                           metric='correlation')\n",
    "\n",
    "f, ax = plt.subplots(figsize=(8, 8))\n",
    "sns.heatmap(xdata, cmap=cmap, annot=False)\n",
    "print('What is wrong with this plot?')"
   ]
  },
  {
   "cell_type": "code",
   "execution_count": null,
   "metadata": {},
   "outputs": [],
   "source": [
    "# lets fix a few things\n",
    "# first, the difference between each instance was large, \n",
    "#  impacted by the biggest variable, Fare\n",
    "\n",
    "from sklearn.preprocessing import StandardScaler\n",
    "\n",
    "# lets scale the data to be zero mean, unit variance\n",
    "std = StandardScaler()\n",
    "\n",
    "xdata = pairwise_distances(std.fit_transform(df_imputed[vars_to_use].to_numpy()), \n",
    "                           metric='correlation')\n",
    "\n",
    "f, ax = plt.subplots(figsize=(8, 8))\n",
    "sns.heatmap(xdata, cmap=cmap, annot=False)\n",
    "print('Is there still something wrong?')"
   ]
  },
  {
   "cell_type": "code",
   "execution_count": null,
   "metadata": {},
   "outputs": [],
   "source": [
    "# lets scale the data to be zero mean, unit variance\n",
    "std = StandardScaler()\n",
    "# and lets also sort the data\n",
    "df_imputed_copy = df_imputed.copy().sort_values(by=['Pclass','Age'])\n",
    "\n",
    "xdata = pairwise_distances(std.fit_transform(df_imputed_copy[vars_to_use].to_numpy()), \n",
    "                           metric='correlation')\n",
    "\n",
    "f, ax = plt.subplots(figsize=(8, 8))\n",
    "sns.heatmap(xdata, cmap=cmap, annot=False)\n",
    "print('Is there anything we can conclude?')"
   ]
  },
  {
   "cell_type": "markdown",
   "metadata": {},
   "source": [
    "______\n",
    "## Revisiting other Plots in Seaborn"
   ]
  },
  {
   "cell_type": "code",
   "execution_count": null,
   "metadata": {},
   "outputs": [],
   "source": [
    "# can we make a better combined histogram and KDE?\n",
    "sns.histplot(df_imputed.Age, kde=True)\n",
    "plt.show()"
   ]
  },
  {
   "cell_type": "code",
   "execution_count": null,
   "metadata": {},
   "outputs": [],
   "source": [
    "# lets make a pretty plot of the scatter matrix\n",
    "df_imputed_jitter = df_imputed.copy()\n",
    "df_imputed_jitter[['Parch','SibSp','Pclass']] += np.random.rand(len(df_imputed_jitter),3)/2 \n",
    "sns.pairplot(df_imputed_jitter, hue=\"Survived\", height=2,\n",
    "            plot_kws=dict(s=20, alpha=0.15, linewidth=0))\n",
    "plt.show()"
   ]
  },
  {
   "cell_type": "markdown",
   "metadata": {},
   "source": [
    "# A Final Note on Plotting:\n",
    "The best plots that you can make are probably ones that are completely custom to the task or question you are trying to solve/answer. These plots are also the most difficult to get correct because they take a great deal of iteration, time, and effort to get perfected. They also take some time to explain. There is a delicate balance between creating a new plot that answers exactly what you are asking (in the best way possible) and spending and inordinate amount of time on a new plot (when a standard plot might be a \"pretty good\" answer)\n",
    "\n",
    "<img src=\"PDF_slides/Customplots.png\" alt=\"TukeyBoxplot\" width=\"600\" height=\"600\">\n",
    "\n",
    "\n",
    "____\n",
    "# Revisiting with Interactive Visuals: Plotly\n",
    "- https://plot.ly/python/getting-started/\n",
    "\n",
    "More updates to come to this section of the notebook. Plotly is a major step in the direction of using JavaScript and python together and I would argue it has a much better implementation than other packages. "
   ]
  },
  {
   "cell_type": "code",
   "execution_count": null,
   "metadata": {},
   "outputs": [],
   "source": [
    "# directly from the getting started example...\n",
    "import plotly\n",
    "print('Plotly:', plotly. __version__)\n",
    "\n",
    "# to install in your environemtn with conda use: conda install plotly\n",
    "\n",
    "plotly.offline.init_notebook_mode() # run at the start of every notebook\n",
    "plotly.offline.iplot({\n",
    "    \"data\": [{\n",
    "        \"x\": [1, 2, 3],\n",
    "        \"y\": [4, 2, 5]\n",
    "    }],\n",
    "    \"layout\": {\n",
    "        \"title\": \"hello world\"\n",
    "    }\n",
    "})"
   ]
  },
  {
   "cell_type": "code",
   "execution_count": null,
   "metadata": {
    "scrolled": false
   },
   "outputs": [],
   "source": [
    "from plotly.graph_objs import Scatter, Layout\n",
    "from plotly.graph_objs.scatter import Marker\n",
    "from plotly.graph_objs.layout import XAxis, YAxis\n",
    "# let's manipulate the example to serve our purposes\n",
    "\n",
    "# plotly allows us to create JS graph elements, like a scatter object\n",
    "# we put together a dictionary of plotting elements\n",
    "# 'data': is the key where we place plotting elements\n",
    "plotly.offline.iplot({\n",
    "    'data':[\n",
    "        # plot siblings and spouses versus age as scatter plot\n",
    "        # and make mouseover text for if they survived\n",
    "        # create markers that are sized based on the fare paid\n",
    "        Scatter(x=df_imputed.SibSp.values+np.random.rand(*df_imputed.SibSp.shape)/2,\n",
    "                y=df_imputed.Age,\n",
    "      \n",
    "                text=df_imputed.Survived.values.astype(str),\n",
    "                marker=Marker(size=df_imputed.Fare, sizemode='area', sizeref=1,),\n",
    "                mode='markers')\n",
    "            ],\n",
    "    'layout': Layout(xaxis=XAxis(title='Sibling and Spouses'), \n",
    "                     yaxis=YAxis(title='Age'),\n",
    "                     title='Age and Family Size (Marker Size==Fare)')\n",
    "}, show_link=False)"
   ]
  },
  {
   "cell_type": "markdown",
   "metadata": {},
   "source": [
    "Visualizing more than three attributes requires a good deal of thought. In the following graph, lets use interactivity to help bolster the analysis. We will create a graph with custom text overlays that help refine the passenger we are looking at. We will \n",
    "- color code whether they survived\n",
    "- Scatter plot Age and Social class\n",
    "- Code the number of siblings/spouses traveling with them through the size of the marker"
   ]
  },
  {
   "cell_type": "code",
   "execution_count": null,
   "metadata": {
    "scrolled": false
   },
   "outputs": [],
   "source": [
    "# now we can define our own HTML text for mouseover events on the graph\n",
    "def get_text(df_row):\n",
    "    return 'Age: %d<br>Gender: %s<br>Class: %d<br>Fare: %.2f<br>SibSpouse: %d<br>ParChildren: %d'%(df_row.Age,df_row.Sex,df_row.Pclass,df_row.Fare,df_row.SibSp,df_row.Parch)\n",
    "\n",
    "# and add the text into the pandas dataframe (for easy indexing)\n",
    "df_imputed['text'] = df_imputed.apply(get_text,axis=1)\n",
    "textstring = ['Perished','Survived', ]\n",
    "\n",
    "plotly.offline.iplot({\n",
    "    'data': [ # creates a list using a comprehension\n",
    "        # plot class versus age, spearated by survival\n",
    "        # Marker size is now siblings and spouses\n",
    "        # Mousover text is now formatted HTML\n",
    "        Scatter(x=df_imputed.Pclass[df_imputed.Survived==val].values+np.random.rand(*df_imputed.SibSp[df_imputed.Survived==val].shape)/2,\n",
    "                y=df_imputed.Age[df_imputed.Survived==val],\n",
    "                text=df_imputed.text[df_imputed.Survived==val].values.astype(str),\n",
    "                marker=Marker(size=df_imputed[df_imputed.Survived==val].SibSp, sizemode='area', sizeref=0.01,),\n",
    "                mode='markers',\n",
    "                name=textstring[val]) for val in [0,1]\n",
    "    ],\n",
    "    'layout': Layout(xaxis=XAxis(title='Social Class'), \n",
    "                     yaxis=YAxis(title='Age'),\n",
    "                     title='Age and Class Scatter Plot, Size = number of siblings and spouses'),\n",
    "    \n",
    "}, show_link=False)"
   ]
  },
  {
   "cell_type": "markdown",
   "metadata": {},
   "source": [
    "Check more about using plotly here:\n",
    "- https://plot.ly/python/ipython-notebook-tutorial/ "
   ]
  },
  {
   "cell_type": "markdown",
   "metadata": {},
   "source": [
    "**In this notebook you learned:**\n",
    "- How to read in from a file using pandas\n",
    "- How to manipulate data with basic operations in pandas\n",
    "- How to group data in pandas \n",
    "- How to use Scikit-learn and pandas for imputation\n",
    "- Some common visualizations in Pandas, Seaborn, and Plotly\n",
    "\n",
    "Want some additional practice?\n",
    "Try to create and use some Bokeh examples that are similar to the plots we created"
   ]
  },
  {
   "cell_type": "code",
   "execution_count": null,
   "metadata": {},
   "outputs": [],
   "source": []
  }
 ],
 "metadata": {
  "anaconda-cloud": {},
  "kernelspec": {
   "display_name": "Python 3 (ipykernel)",
   "language": "python",
   "name": "python3"
  },
  "language_info": {
   "codemirror_mode": {
    "name": "ipython",
    "version": 3
   },
   "file_extension": ".py",
   "mimetype": "text/x-python",
   "name": "python",
   "nbconvert_exporter": "python",
   "pygments_lexer": "ipython3",
   "version": "3.10.12"
  }
 },
 "nbformat": 4,
 "nbformat_minor": 2
}
