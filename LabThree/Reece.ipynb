{
 "cells": [
  {
   "cell_type": "markdown",
   "metadata": {},
   "source": [
    "# **Lab 3**"
   ]
  },
  {
   "cell_type": "markdown",
   "metadata": {},
   "source": [
    "- Eileen Garcia: 48241821\n",
    "-  Trevor  Dohm: 48376059\n",
    "- Reece Iriye: 48255107"
   ]
  },
  {
   "cell_type": "markdown",
   "metadata": {},
   "source": [
    "## **0: Imports** "
   ]
  },
  {
   "cell_type": "code",
   "execution_count": 1,
   "metadata": {},
   "outputs": [],
   "source": [
    "import warnings\n",
    "\n",
    "import numpy as np\n",
    "import pandas as pd\n",
    "import matplotlib.pyplot as plt\n",
    "import seaborn as sns\n",
    "\n",
    "warnings.filterwarnings(\"ignore\")\n",
    "from sklearn.preprocessing import StandardScaler"
   ]
  },
  {
   "cell_type": "code",
   "execution_count": 2,
   "metadata": {},
   "outputs": [
    {
     "name": "stdout",
     "output_type": "stream",
     "text": [
      "Pandas: 2.0.3\n",
      "Numpy: 1.24.3\n"
     ]
    }
   ],
   "source": [
    "# Print Version\n",
    "print(\"Pandas:\", pd.__version__)\n",
    "print(\"Numpy:\", np.__version__)"
   ]
  },
  {
   "cell_type": "markdown",
   "metadata": {},
   "source": [
    "## **1: Business & Data Understanding**"
   ]
  },
  {
   "cell_type": "markdown",
   "metadata": {},
   "source": [
    "### **1.1: Dataset Overview**"
   ]
  },
  {
   "cell_type": "markdown",
   "metadata": {},
   "source": [
    "\"Customer segmentation is the practice of dividing a customer base into groups of individuals that are similar in specific ways relevant to marketing, such as age, gender, interests and spending habits,\" according to <a href=\"https://datahack.analyticsvidhya.com/contest/janatahack-customer-segmentation/\">Analytics Vidhya</a>. The purpose of customer segmentation is to target specific factions of a company's consumer base, instead of the consumer base as a whole, to then target smaller and very specific subsets of the entire customer population to send them focused, relevant messages or promotions to then motivate them to buy their products. Customer segmentation can also be important for understanding customer's preferences, so that they then see what a segment finds most valuable then tailor marketing towards them.  \n",
    "\n",
    "The \"Customer Segmentation Classification\" dataset from <a href=\"https://www.kaggle.com/datasets/kaushiksuresh147/customer-segmentation\">Kaggle</a> offers a unique perspective into the customer classifications of an automobile company gearing up to venture into new markets. Drawing from their historical data, the company has successfully split their existing clientele into four distinct segments: A, B, C, and D. The company has access to the  \n",
    "\n",
    "\n",
    "This classification, likely rooted in numerous factors such as purchasing behavior, customer preferences, and demographic details, has shaped their outreach and marketing strategies. "
   ]
  },
  {
   "cell_type": "markdown",
   "metadata": {},
   "source": [
    "### **1.2: Purpose of Dataset Collection**"
   ]
  },
  {
   "cell_type": "markdown",
   "metadata": {},
   "source": []
  },
  {
   "cell_type": "markdown",
   "metadata": {},
   "source": [
    "### **1.3: Prediction Task and Stakeholder Interest**"
   ]
  },
  {
   "cell_type": "markdown",
   "metadata": {},
   "source": []
  },
  {
   "cell_type": "markdown",
   "metadata": {},
   "source": [
    "### **1.4: Algorithm Performance Expectation for Profitability**"
   ]
  },
  {
   "cell_type": "markdown",
   "metadata": {},
   "source": []
  },
  {
   "cell_type": "markdown",
   "metadata": {},
   "source": [
    "## **2: Data Exploration**"
   ]
  },
  {
   "cell_type": "markdown",
   "metadata": {},
   "source": [
    "### **2.1: Loading Data In and Seeing Basic Characteristcs**"
   ]
  },
  {
   "cell_type": "code",
   "execution_count": 6,
   "metadata": {},
   "outputs": [
    {
     "name": "stdout",
     "output_type": "stream",
     "text": [
      "<class 'pandas.core.frame.DataFrame'>\n",
      "RangeIndex: 8068 entries, 0 to 8067\n",
      "Data columns (total 11 columns):\n",
      " #   Column           Non-Null Count  Dtype  \n",
      "---  ------           --------------  -----  \n",
      " 0   ID               8068 non-null   int64  \n",
      " 1   Gender           8068 non-null   object \n",
      " 2   Ever_Married     7928 non-null   object \n",
      " 3   Age              8068 non-null   int64  \n",
      " 4   Graduated        7990 non-null   object \n",
      " 5   Profession       7944 non-null   object \n",
      " 6   Work_Experience  7239 non-null   float64\n",
      " 7   Spending_Score   8068 non-null   object \n",
      " 8   Family_Size      7733 non-null   float64\n",
      " 9   Var_1            7992 non-null   object \n",
      " 10  Segmentation     8068 non-null   object \n",
      "dtypes: float64(2), int64(2), object(7)\n",
      "memory usage: 693.5+ KB\n",
      "<class 'pandas.core.frame.DataFrame'>\n",
      "RangeIndex: 2627 entries, 0 to 2626\n",
      "Data columns (total 11 columns):\n",
      " #   Column           Non-Null Count  Dtype  \n",
      "---  ------           --------------  -----  \n",
      " 0   ID               2627 non-null   int64  \n",
      " 1   Gender           2627 non-null   object \n",
      " 2   Ever_Married     2577 non-null   object \n",
      " 3   Age              2627 non-null   int64  \n",
      " 4   Graduated        2603 non-null   object \n",
      " 5   Profession       2589 non-null   object \n",
      " 6   Work_Experience  2358 non-null   float64\n",
      " 7   Spending_Score   2627 non-null   object \n",
      " 8   Family_Size      2514 non-null   float64\n",
      " 9   Var_1            2595 non-null   object \n",
      " 10  Segmentation     2627 non-null   object \n",
      "dtypes: float64(2), int64(2), object(7)\n",
      "memory usage: 225.9+ KB\n"
     ]
    }
   ],
   "source": [
    "df_train_csv: pd.DataFrame = pd.read_csv(\"Dataset/Train.csv\")\n",
    "df_test_csv: pd.DataFrame = pd.read_csv(\"Dataset/Test.csv\")\n",
    "\n",
    "df_train_csv.info()\n",
    "df_test_csv.info()"
   ]
  },
  {
   "cell_type": "markdown",
   "metadata": {},
   "source": [
    "Our data comes prepackages in training and testing datasets, but we wanted to ensure that these datasets were consolidated into one set so that we can apply a `train_test_split()` operation to randomly generate our own training and testing data split later."
   ]
  },
  {
   "cell_type": "code",
   "execution_count": 7,
   "metadata": {},
   "outputs": [
    {
     "name": "stdout",
     "output_type": "stream",
     "text": [
      "<class 'pandas.core.frame.DataFrame'>\n",
      "Index: 10695 entries, 0 to 2626\n",
      "Data columns (total 11 columns):\n",
      " #   Column           Non-Null Count  Dtype  \n",
      "---  ------           --------------  -----  \n",
      " 0   ID               10695 non-null  int64  \n",
      " 1   Gender           10695 non-null  object \n",
      " 2   Ever_Married     10505 non-null  object \n",
      " 3   Age              10695 non-null  int64  \n",
      " 4   Graduated        10593 non-null  object \n",
      " 5   Profession       10533 non-null  object \n",
      " 6   Work_Experience  9597 non-null   float64\n",
      " 7   Spending_Score   10695 non-null  object \n",
      " 8   Family_Size      10247 non-null  float64\n",
      " 9   Var_1            10587 non-null  object \n",
      " 10  Segmentation     10695 non-null  object \n",
      "dtypes: float64(2), int64(2), object(7)\n",
      "memory usage: 1002.7+ KB\n"
     ]
    }
   ],
   "source": [
    "# Concatenate the train and test datasets\n",
    "df_original = pd.concat([df_train_csv, df_test_csv], axis=0)\n",
    "\n",
    "# Summarize Dataset Scheme\n",
    "df_original.info()"
   ]
  },
  {
   "cell_type": "code",
   "execution_count": 8,
   "metadata": {},
   "outputs": [
    {
     "name": "stdout",
     "output_type": "stream",
     "text": [
      "The dataset contains 10695 rows and 11 columns.\n"
     ]
    }
   ],
   "source": [
    "# Dataset Size\n",
    "row_count, col_count = df_original.shape\n",
    "print(f\"The dataset contains {row_count} rows and {col_count} columns.\")"
   ]
  },
  {
   "cell_type": "code",
   "execution_count": 9,
   "metadata": {},
   "outputs": [
    {
     "name": "stdout",
     "output_type": "stream",
     "text": [
      "The ID attribute in the original dataset has 8363 unique values, and there are 10695 rows in total in the dataset.\n"
     ]
    }
   ],
   "source": [
    "# Check for Duplicate Behavior\n",
    "print(f\"The ID attribute in the original dataset has {df_original['ID'].nunique()} unique values, and there are {row_count} rows in total in the dataset.\")"
   ]
  },
  {
   "cell_type": "code",
   "execution_count": 10,
   "metadata": {},
   "outputs": [
    {
     "name": "stdout",
     "output_type": "stream",
     "text": [
      "The ID attribute in the test dataset has 2627 unique values, and there are 2627 rows in total in the dataset.\n",
      "The ID attribute in the training dataset has 8068 unique values, and there are 8068 rows in total in the dataset.\n"
     ]
    }
   ],
   "source": [
    "# Interestingly, there are no duplicates in each dataset on their own\n",
    "row_count, col_count = df_test_csv.shape\n",
    "print(f\"The ID attribute in the test dataset has {df_test_csv['ID'].nunique()} unique values, and there are {row_count} rows in total in the dataset.\")\n",
    "\n",
    "row_count, col_count = df_train_csv.shape\n",
    "print(f\"The ID attribute in the training dataset has {df_train_csv['ID'].nunique()} unique values, and there are {row_count} rows in total in the dataset.\")"
   ]
  },
  {
   "cell_type": "markdown",
   "metadata": {},
   "source": [
    "### **2.2: Checking for Duplicate ID's**"
   ]
  },
  {
   "cell_type": "code",
   "execution_count": 11,
   "metadata": {},
   "outputs": [
    {
     "name": "stdout",
     "output_type": "stream",
     "text": [
      "          ID  Gender Ever_Married  Age Graduated  Profession  Work_Experience  \\\n",
      "4977  458989  Female          Yes   42       Yes    Engineer              1.0   \n",
      "0     458989  Female          Yes   36       Yes    Engineer              0.0   \n",
      "6060  458994    Male          Yes   38       Yes  Healthcare              8.0   \n",
      "1     458994    Male          Yes   37       Yes  Healthcare              8.0   \n",
      "7523  458996  Female          Yes   71        No         NaN              1.0   \n",
      "...      ...     ...          ...  ...       ...         ...              ...   \n",
      "2622  467954    Male           No   29        No  Healthcare              9.0   \n",
      "5499  467958  Female           No   43       Yes      Doctor              0.0   \n",
      "2623  467958  Female           No   35       Yes      Doctor              1.0   \n",
      "7172  467961    Male          Yes   45       Yes   Executive              1.0   \n",
      "2625  467961    Male          Yes   47       Yes   Executive              1.0   \n",
      "\n",
      "     Spending_Score  Family_Size  Var_1 Segmentation  \n",
      "4977            Low          1.0  Cat_6            B  \n",
      "0               Low          1.0  Cat_6            B  \n",
      "6060        Average          4.0  Cat_6            C  \n",
      "1           Average          4.0  Cat_6            A  \n",
      "7523            Low          1.0  Cat_6            A  \n",
      "...             ...          ...    ...          ...  \n",
      "2622            Low          4.0  Cat_6            B  \n",
      "5499            Low          1.0  Cat_6            A  \n",
      "2623            Low          1.0  Cat_6            A  \n",
      "7172           High          5.0  Cat_4            B  \n",
      "2625           High          5.0  Cat_4            C  \n",
      "\n",
      "[4664 rows x 11 columns]\n"
     ]
    }
   ],
   "source": [
    "# Check to see if they are actually duplicates\n",
    "# Find duplicate IDs (these IDs are supposed to be unique)\n",
    "duplicate_ids = df_original[df_original['ID'].duplicated(keep=False)]\n",
    "\n",
    "# Sort the DataFrame by the 'ID' column to maintain the original order\n",
    "sorted_duplicate_ids = duplicate_ids.sort_values(by='ID')\n",
    "\n",
    "# Print some of the duplicate rows\n",
    "print(sorted_duplicate_ids)\n",
    "\n",
    "# TODO: Why are the numerics differing when the ID and categorical columns are the same???"
   ]
  },
  {
   "cell_type": "code",
   "execution_count": 11,
   "metadata": {},
   "outputs": [
    {
     "name": "stdout",
     "output_type": "stream",
     "text": [
      "Duplicate rows found:\n",
      "          ID  Gender Ever_Married  Age Graduated  Profession  Work_Experience  \\\n",
      "78    459223  Female          Yes   47       Yes      Doctor              1.0   \n",
      "4562  459223  Female          Yes   47       Yes      Doctor              1.0   \n",
      "104   459320    Male          Yes   26       Yes   Executive              0.0   \n",
      "4916  459320    Male          Yes   26       Yes   Executive              0.0   \n",
      "246   459763    Male           No   18        No      Artist              NaN   \n",
      "...      ...     ...          ...  ...       ...         ...              ...   \n",
      "193   467539    Male          Yes   48       Yes      Artist              NaN   \n",
      "2506  467569    Male           No   19        No  Healthcare              NaN   \n",
      "7865  467569    Male           No   19        No  Healthcare              NaN   \n",
      "4745  467892    Male           No   23        No      Doctor              1.0   \n",
      "2599  467892    Male           No   23        No      Doctor              1.0   \n",
      "\n",
      "     Spending_Score  Family_Size  Var_1 Segmentation  \n",
      "78          Average          4.0  Cat_6            C  \n",
      "4562        Average          4.0  Cat_6            C  \n",
      "104             Low          3.0  Cat_6            D  \n",
      "4916            Low          3.0  Cat_6            D  \n",
      "246             Low          4.0  Cat_4            D  \n",
      "...             ...          ...    ...          ...  \n",
      "193         Average          4.0  Cat_7            C  \n",
      "2506            Low          4.0  Cat_6            D  \n",
      "7865            Low          4.0  Cat_6            D  \n",
      "4745            Low          5.0  Cat_6            D  \n",
      "2599            Low          5.0  Cat_6            D  \n",
      "\n",
      "[76 rows x 11 columns]\n"
     ]
    }
   ],
   "source": [
    "# Check if the rows are exactly the same across all columns (not just ID)\n",
    "duplicate_rows = df_original[df_original.duplicated(keep=False, subset=df_original.columns)]\n",
    "\n",
    "# See if duplicate_rows is empty (aka no duplicate rows)\n",
    "if duplicate_rows.empty:\n",
    "    print(\"No duplicate rows found.\")\n",
    "else: \n",
    "    duplicate_rows_sorted = duplicate_rows.sort_values(by='ID')\n",
    "    print(\"Duplicate rows found:\")\n",
    "    print(duplicate_rows_sorted)"
   ]
  },
  {
   "cell_type": "markdown",
   "metadata": {},
   "source": [
    "Conclusion: After concatenating the test and train data, we see 2332 IDs that were duplicated (AKA 4664 rows). However, looking at the test and train data frames separately, neither have duplicate IDs within themselves. We can conclude that some of the duplicates come from IDs being reused between the test and train data frames.\n",
    "\n",
    "We also checked for completely identical rows, not just across ID, but across all columns. We found 76 rows that fit the description, meaning there are 38 instances that are exact duplicates."
   ]
  },
  {
   "cell_type": "markdown",
   "metadata": {},
   "source": [
    "### **2.3: Exploring Missing Data**"
   ]
  },
  {
   "cell_type": "code",
   "execution_count": 12,
   "metadata": {},
   "outputs": [
    {
     "data": {
      "image/png": "[encoded data removed]",
      "text/plain": [
       "<Figure size 800x600 with 1 Axes>"
      ]
     },
     "metadata": {},
     "output_type": "display_data"
    }
   ],
   "source": [
    "# Exploring Missing Data - ChatGPT \n",
    "# Create a boolean DataFrame where True indicates missing values\n",
    "\n",
    "missing_values = df_original.isnull()\n",
    "\n",
    "plt.figure(figsize=(8,6))\n",
    "sns.heatmap(missing_values, cmap='viridis', cbar=False)\n",
    "plt.title('Unsorted Missing Values Heatmap')\n",
    "plt.show()"
   ]
  },
  {
   "cell_type": "code",
   "execution_count": 13,
   "metadata": {},
   "outputs": [
    {
     "data": {
      "image/png": "[encoded data removed]",
      "text/plain": [
       "<Figure size 800x600 with 1 Axes>"
      ]
     },
     "metadata": {},
     "output_type": "display_data"
    }
   ],
   "source": [
    "# Sorted by Work Experience\n",
    "df_sorted_for_nan_transparency = df_original.sort_values(by=\"Work_Experience\")\n",
    "\n",
    "missing_values_post_sort = df_sorted_for_nan_transparency.isnull()\n",
    "\n",
    "\n",
    "plt.figure(figsize=(8,6))\n",
    "sns.heatmap(missing_values_post_sort, cmap='viridis', cbar=False)\n",
    "plt.title('Sorted Missing Values Heatmap')\n",
    "plt.show()"
   ]
  },
  {
   "cell_type": "code",
   "execution_count": 13,
   "metadata": {},
   "outputs": [
    {
     "data": {
      "image/png": "[encoded data removed]",
      "text/plain": [
       "<Figure size 1600x600 with 1 Axes>"
      ]
     },
     "metadata": {},
     "output_type": "display_data"
    }
   ],
   "source": [
    "# Bar Plot of missing Values\n",
    "\n",
    "# Find Missing Values (Sort)\n",
    "missCount = df_original.isnull().sum()[df_original.isnull().sum() > 0]\n",
    "sns.set(style = \"whitegrid\")\n",
    "plt.figure(figsize = (16, 6))\n",
    "sns.barplot(x = missCount.index, y = missCount.values, palette = \"viridis\")\n",
    "plt.title('Missing Values Count')\n",
    "plt.xlabel('Features')\n",
    "plt.ylabel('Missing Values Count')\n",
    "plt.show()"
   ]
  },
  {
   "cell_type": "code",
   "execution_count": 14,
   "metadata": {},
   "outputs": [],
   "source": [
    "# Given the above, we might be tempted to discard Work_Experience\n",
    "# Leaving it for now, because it kind of shows how long \n",
    "# the customer has been commuting to work"
   ]
  },
  {
   "cell_type": "code",
   "execution_count": 15,
   "metadata": {},
   "outputs": [
    {
     "name": "stdout",
     "output_type": "stream",
     "text": [
      "<class 'pandas.core.frame.DataFrame'>\n",
      "Index: 10695 entries, 0 to 2626\n",
      "Data columns (total 9 columns):\n",
      " #   Column           Non-Null Count  Dtype  \n",
      "---  ------           --------------  -----  \n",
      " 0   Gender           10695 non-null  object \n",
      " 1   Ever_Married     10505 non-null  object \n",
      " 2   Age              10695 non-null  int64  \n",
      " 3   Graduated        10593 non-null  object \n",
      " 4   Profession       10533 non-null  object \n",
      " 5   Work_Experience  9597 non-null   float64\n",
      " 6   Spending_Score   10695 non-null  object \n",
      " 7   Family_Size      10247 non-null  float64\n",
      " 8   Segmentation     10695 non-null  object \n",
      "dtypes: float64(2), int64(1), object(6)\n",
      "memory usage: 835.5+ KB\n"
     ]
    }
   ],
   "source": [
    "# Deleting Unnecessary Columns \n",
    "# Var_1 is an \"Anonymised Category for the customer\"\n",
    "# ID is not going to help us classify customers\n",
    "# Get rid of them!!!!\n",
    "df_modified = df_original\n",
    "\n",
    "for col in ['Var_1', 'ID']:\n",
    "    if col in df_modified:\n",
    "        del df_modified[col]\n",
    "        \n",
    "df_modified.info()"
   ]
  },
  {
   "cell_type": "markdown",
   "metadata": {},
   "source": [
    "### **2.4: Imputation for Missing Values**"
   ]
  },
  {
   "cell_type": "markdown",
   "metadata": {},
   "source": [
    "When examining this 10,695-entry data, we see a few compelling reasons to advocate for the use of imputation over outright elimination of rows where NaN's exist. First off, data retention is a major issue here, especially since ~10,000 rows is not a lot of data in the context of customer segmentation, and we need as much data as possible to get as close to accurate as we possibly can. By removing rows with NaN values, there's the danger of discarding a considerable chunk of the dataset, and with it, potentially valuable insights that lie in the non-missing cells. Removing the `Work_Experience` column is extremely risky too, because it might be indispensable to the analysis, and the integrity of our model could easily be diminished by removing it. Furthermore, for categorical columns like `Ever_Married` or `Profession`, the mode — or the most frequently occurring value — serves as a logical placeholder for missing entries. The mean imputation makes more sense in the context of quantitative variables in our dataset, because we then place a value that strongly represents an average in our dataset and still keep the columns as extremely important values to retain for customers who have abnormal values in comparison to the distribution in each of these columns.\n",
    "\n",
    "Even though we prefer it in this context, the mode and mean imputation approach also has its pitfalls. While it may tackle certain biases by retaining the original dataset's volume (especially since we don't have a lot of data in the first place), it simultaneously runs the risk of introducing new biases. Over-representing a category with means and modes might inadvertently skew the results in its favor. While mode and mean imputation offers a practical avenue for dealing with NaNs that emerge in our dataset, we should be cautious, as there really isn't an ideal way to deal with the NaN values that we are seeing. We just want to make sure we're maximizing the practical use out of the dataset that we have. "
   ]
  },
  {
   "cell_type": "code",
   "execution_count": 16,
   "metadata": {},
   "outputs": [
    {
     "name": "stdout",
     "output_type": "stream",
     "text": [
      "<class 'pandas.core.frame.DataFrame'>\n",
      "Index: 10695 entries, 0 to 2626\n",
      "Data columns (total 9 columns):\n",
      " #   Column           Non-Null Count  Dtype  \n",
      "---  ------           --------------  -----  \n",
      " 0   Gender           10695 non-null  object \n",
      " 1   Ever_Married     10695 non-null  object \n",
      " 2   Age              10695 non-null  int64  \n",
      " 3   Graduated        10695 non-null  object \n",
      " 4   Profession       10695 non-null  object \n",
      " 5   Work_Experience  10695 non-null  float64\n",
      " 6   Spending_Score   10695 non-null  object \n",
      " 7   Family_Size      10695 non-null  float64\n",
      " 8   Segmentation     10695 non-null  object \n",
      "dtypes: float64(2), int64(1), object(6)\n",
      "memory usage: 835.5+ KB\n"
     ]
    }
   ],
   "source": [
    "# Impute missing values -> ChatGPT\n",
    "# For categorical types, lets impute with the mode.\n",
    "df_modified['Profession'].fillna(df_modified['Profession'].mode()[0], inplace=True)\n",
    "df_modified['Ever_Married'].fillna(df_modified['Ever_Married'].mode()[0], inplace=True)\n",
    "df_modified['Graduated'].fillna(df_modified['Graduated'].mode()[0], inplace=True)\n",
    "\n",
    "# For numeric types, lets impute with the mean.\n",
    "df_modified['Work_Experience'].fillna(df_modified['Work_Experience'].mean(), inplace=True)\n",
    "df_modified['Family_Size'].fillna(df_modified['Family_Size'].mean(), inplace=True)\n",
    "\n",
    "# Verify there are no more null values\n",
    "df_modified.info()"
   ]
  },
  {
   "cell_type": "markdown",
   "metadata": {},
   "source": [
    "### **2.5: One-Hot-Encoding for Categorical Variables**"
   ]
  },
  {
   "cell_type": "code",
   "execution_count": 17,
   "metadata": {},
   "outputs": [
    {
     "name": "stdout",
     "output_type": "stream",
     "text": [
      "<class 'pandas.core.frame.DataFrame'>\n",
      "Index: 10695 entries, 0 to 2626\n",
      "Data columns (total 25 columns):\n",
      " #   Column                    Non-Null Count  Dtype  \n",
      "---  ------                    --------------  -----  \n",
      " 0   Age                       10695 non-null  int64  \n",
      " 1   Work_Experience           10695 non-null  float64\n",
      " 2   Family_Size               10695 non-null  float64\n",
      " 3   Gender_Female             10695 non-null  int32  \n",
      " 4   Gender_Male               10695 non-null  int32  \n",
      " 5   Ever_Married_No           10695 non-null  int32  \n",
      " 6   Ever_Married_Yes          10695 non-null  int32  \n",
      " 7   Graduated_No              10695 non-null  int32  \n",
      " 8   Graduated_Yes             10695 non-null  int32  \n",
      " 9   Profession_Artist         10695 non-null  int32  \n",
      " 10  Profession_Doctor         10695 non-null  int32  \n",
      " 11  Profession_Engineer       10695 non-null  int32  \n",
      " 12  Profession_Entertainment  10695 non-null  int32  \n",
      " 13  Profession_Executive      10695 non-null  int32  \n",
      " 14  Profession_Healthcare     10695 non-null  int32  \n",
      " 15  Profession_Homemaker      10695 non-null  int32  \n",
      " 16  Profession_Lawyer         10695 non-null  int32  \n",
      " 17  Profession_Marketing      10695 non-null  int32  \n",
      " 18  Spending_Score_Average    10695 non-null  int32  \n",
      " 19  Spending_Score_High       10695 non-null  int32  \n",
      " 20  Spending_Score_Low        10695 non-null  int32  \n",
      " 21  Segmentation_A            10695 non-null  int32  \n",
      " 22  Segmentation_B            10695 non-null  int32  \n",
      " 23  Segmentation_C            10695 non-null  int32  \n",
      " 24  Segmentation_D            10695 non-null  int32  \n",
      "dtypes: float64(2), int32(22), int64(1)\n",
      "memory usage: 1.2 MB\n",
      "None\n"
     ]
    }
   ],
   "source": [
    "# One hot encode the categorical variables\n",
    "\n",
    "# Gender (Male, Female)\n",
    "# Ever_Married (No, Yes)\n",
    "# Graduated (No, Yes)\n",
    "# Profession (['Healthcare' 'Engineer' 'Lawyer' 'Entertainment' 'Artist' 'Executive'\n",
    "# 'Doctor' 'Homemaker' 'Marketing'])\n",
    "# Spending_Score (Low, Average, High)\n",
    "# Segmentation (A, B, C, D)\n",
    "\n",
    "df_one_hot_encoded = pd.get_dummies(df_modified, drop_first=False)\n",
    "df_one_hot_encoded_int = df_one_hot_encoded.select_dtypes(include='bool').astype(int)\n",
    "\n",
    "df_one_hot_encoded.update(df_one_hot_encoded_int)\n",
    "\n",
    "print(df_one_hot_encoded.info())"
   ]
  },
  {
   "cell_type": "code",
   "execution_count": 18,
   "metadata": {},
   "outputs": [
    {
     "name": "stdout",
     "output_type": "stream",
     "text": [
      "      Age  Work_Experience  Family_Size  Gender_Female  Gender_Male  \\\n",
      "0      22         1.000000          4.0              0            1   \n",
      "1      38         2.619777          3.0              1            0   \n",
      "2      67         1.000000          1.0              1            0   \n",
      "3      67         0.000000          2.0              0            1   \n",
      "4      40         2.619777          6.0              1            0   \n",
      "...   ...              ...          ...            ...          ...   \n",
      "2622   29         9.000000          4.0              0            1   \n",
      "2623   35         1.000000          1.0              1            0   \n",
      "2624   53         2.619777          2.0              1            0   \n",
      "2625   47         1.000000          5.0              0            1   \n",
      "2626   43         9.000000          3.0              1            0   \n",
      "\n",
      "      Ever_Married_No  Ever_Married_Yes  Graduated_No  Graduated_Yes  \\\n",
      "0                   1                 0             1              0   \n",
      "1                   0                 1             0              1   \n",
      "2                   0                 1             0              1   \n",
      "3                   0                 1             0              1   \n",
      "4                   0                 1             0              1   \n",
      "...               ...               ...           ...            ...   \n",
      "2622                1                 0             1              0   \n",
      "2623                1                 0             0              1   \n",
      "2624                1                 0             0              1   \n",
      "2625                0                 1             0              1   \n",
      "2626                1                 0             0              1   \n",
      "\n",
      "      Profession_Artist  ...  Profession_Homemaker  Profession_Lawyer  \\\n",
      "0                     0  ...                     0                  0   \n",
      "1                     0  ...                     0                  0   \n",
      "2                     0  ...                     0                  0   \n",
      "3                     0  ...                     0                  1   \n",
      "4                     0  ...                     0                  0   \n",
      "...                 ...  ...                   ...                ...   \n",
      "2622                  0  ...                     0                  0   \n",
      "2623                  0  ...                     0                  0   \n",
      "2624                  0  ...                     0                  0   \n",
      "2625                  0  ...                     0                  0   \n",
      "2626                  0  ...                     0                  0   \n",
      "\n",
      "      Profession_Marketing  Spending_Score_Average  Spending_Score_High  \\\n",
      "0                        0                       0                    0   \n",
      "1                        0                       1                    0   \n",
      "2                        0                       0                    0   \n",
      "3                        0                       0                    1   \n",
      "4                        0                       0                    1   \n",
      "...                    ...                     ...                  ...   \n",
      "2622                     0                       0                    0   \n",
      "2623                     0                       0                    0   \n",
      "2624                     0                       0                    0   \n",
      "2625                     0                       0                    1   \n",
      "2626                     0                       0                    0   \n",
      "\n",
      "      Spending_Score_Low  Segmentation_A  Segmentation_B  Segmentation_C  \\\n",
      "0                      1               0               0               0   \n",
      "1                      0               1               0               0   \n",
      "2                      1               0               1               0   \n",
      "3                      0               0               1               0   \n",
      "4                      0               1               0               0   \n",
      "...                  ...             ...             ...             ...   \n",
      "2622                   1               0               1               0   \n",
      "2623                   1               1               0               0   \n",
      "2624                   1               0               0               1   \n",
      "2625                   0               0               0               1   \n",
      "2626                   1               1               0               0   \n",
      "\n",
      "      Segmentation_D  \n",
      "0                  1  \n",
      "1                  0  \n",
      "2                  0  \n",
      "3                  0  \n",
      "4                  0  \n",
      "...              ...  \n",
      "2622               0  \n",
      "2623               0  \n",
      "2624               0  \n",
      "2625               0  \n",
      "2626               0  \n",
      "\n",
      "[10695 rows x 25 columns]\n"
     ]
    }
   ],
   "source": [
    "# 1 = True, 0 = False\n",
    "print(df_one_hot_encoded) "
   ]
  },
  {
   "cell_type": "markdown",
   "metadata": {},
   "source": [
    "### **2.6: Standard Scaling for Values**"
   ]
  },
  {
   "cell_type": "markdown",
   "metadata": {},
   "source": [
    "Standard scaling is a fundamental preprocessing step employed in machine learning tasks. The technique involves normalizing the features of the dataset so that they have a mean of 0 and a standard deviation of 1. We are choosing to employ standard scaling into this model, because "
   ]
  },
  {
   "cell_type": "code",
   "execution_count": 19,
   "metadata": {},
   "outputs": [],
   "source": [
    "# Feature Scaling (Standard Scalar)\n",
    "stdscaler = StandardScaler()\n",
    "df_scaled = stdscaler.fit_transform(df_one_hot_encoded)"
   ]
  },
  {
   "cell_type": "markdown",
   "metadata": {},
   "source": [
    "### Breakdown of Variables (Post Pre-Processing)"
   ]
  },
  {
   "cell_type": "code",
   "execution_count": 20,
   "metadata": {},
   "outputs": [
    {
     "name": "stdout",
     "output_type": "stream",
     "text": [
      "Summary Statistics:\n",
      "                 0             1             2             3             4   \\\n",
      "count  1.069500e+04  1.069500e+04  1.069500e+04  1.069500e+04  1.069500e+04   \n",
      "mean  -1.710750e-16  2.823569e-17 -6.776565e-17  8.670017e-17 -8.670017e-17   \n",
      "std    1.000047e+00  1.000047e+00  1.000047e+00  1.000047e+00  1.000047e+00   \n",
      "min   -1.520972e+00 -8.156593e-01 -1.226237e+00 -9.116041e-01 -1.096967e+00   \n",
      "25%   -8.055522e-01 -8.156593e-01 -5.612681e-01 -9.116041e-01 -1.096967e+00   \n",
      "50%   -1.497509e-01 -5.043124e-01  0.000000e+00 -9.116041e-01  9.116041e-01   \n",
      "75%    5.656687e-01  1.183812e-01  7.686693e-01  1.096967e+00  9.116041e-01   \n",
      "max    2.711927e+00  3.543196e+00  4.093513e+00  1.096967e+00  9.116041e-01   \n",
      "\n",
      "                 5             6             7             8             9   \\\n",
      "count  1.069500e+04  1.069500e+04  1.069500e+04  1.069500e+04  1.069500e+04   \n",
      "mean   2.657476e-18  6.909438e-17  7.507371e-17 -7.507371e-17  2.125981e-17   \n",
      "std    1.000047e+00  1.000047e+00  1.000047e+00  1.000047e+00  1.000047e+00   \n",
      "min   -8.267144e-01 -1.209608e+00 -7.765099e-01 -1.287814e+00 -6.944987e-01   \n",
      "25%   -8.267144e-01 -1.209608e+00 -7.765099e-01 -1.287814e+00 -6.944987e-01   \n",
      "50%   -8.267144e-01  8.267144e-01 -7.765099e-01  7.765099e-01 -6.944987e-01   \n",
      "75%    1.209608e+00  8.267144e-01  1.287814e+00  7.765099e-01  1.439887e+00   \n",
      "max    1.209608e+00  8.267144e-01  1.287814e+00  7.765099e-01  1.439887e+00   \n",
      "\n",
      "       ...            15            16            17            18  \\\n",
      "count  ...  1.069500e+04  1.069500e+04  1.069500e+04  1.069500e+04   \n",
      "mean   ... -3.986215e-18  2.391729e-17 -2.258855e-17 -5.846448e-17   \n",
      "std    ...  1.000047e+00  1.000047e+00  1.000047e+00  1.000047e+00   \n",
      "min    ... -1.778731e-01 -2.927056e-01 -1.978803e-01 -5.665887e-01   \n",
      "25%    ... -1.778731e-01 -2.927056e-01 -1.978803e-01 -5.665887e-01   \n",
      "50%    ... -1.778731e-01 -2.927056e-01 -1.978803e-01 -5.665887e-01   \n",
      "75%    ... -1.778731e-01 -2.927056e-01 -1.978803e-01 -5.665887e-01   \n",
      "max    ...  5.621984e+00  3.416402e+00  5.053559e+00  1.764949e+00   \n",
      "\n",
      "                 19            20            21            22            23  \\\n",
      "count  1.069500e+04  1.069500e+04  1.069500e+04  1.069500e+04  1.069500e+04   \n",
      "mean   2.657476e-17  1.328738e-17  4.783457e-17 -9.965536e-17  7.972429e-17   \n",
      "std    1.000047e+00  1.000047e+00  1.000047e+00  1.000047e+00  1.000047e+00   \n",
      "min   -4.197374e-01 -1.243311e+00 -5.981224e-01 -5.390506e-01 -5.439599e-01   \n",
      "25%   -4.197374e-01 -1.243311e+00 -5.981224e-01 -5.390506e-01 -5.439599e-01   \n",
      "50%   -4.197374e-01  8.043039e-01 -5.981224e-01 -5.390506e-01 -5.439599e-01   \n",
      "75%   -4.197374e-01  8.043039e-01  1.671899e+00 -5.390506e-01 -5.439599e-01   \n",
      "max    2.382442e+00  8.043039e-01  1.671899e+00  1.855113e+00  1.838371e+00   \n",
      "\n",
      "                 24  \n",
      "count  1.069500e+04  \n",
      "mean   3.654030e-17  \n",
      "std    1.000047e+00  \n",
      "min   -6.282972e-01  \n",
      "25%   -6.282972e-01  \n",
      "50%   -6.282972e-01  \n",
      "75%    1.591603e+00  \n",
      "max    1.591603e+00  \n",
      "\n",
      "[8 rows x 25 columns]\n"
     ]
    }
   ],
   "source": [
    "# Provide mean, std, etc. for all variables (Summary Statistics) -> ChatGPT\n",
    "# Convert the NumPy ndarray to a pandas DataFrame\n",
    "df_converted = pd.DataFrame(df_scaled)\n",
    "\n",
    "# Use pandas to compute and print summary statistics\n",
    "summary_stats = df_converted.describe()\n",
    "\n",
    "print(\"Summary Statistics:\")\n",
    "print(summary_stats)\n",
    "\n",
    "# Note: Only columns 0, 1, and 2 (Age, Work_Experience, Family_Size)\n",
    "# Are numeric. Columns 3 - 24 are categorical and have\n",
    "# been one hot encoded."
   ]
  },
  {
   "cell_type": "markdown",
   "metadata": {},
   "source": [
    "## Training and Testing Split Argument"
   ]
  },
  {
   "cell_type": "code",
   "execution_count": 21,
   "metadata": {},
   "outputs": [],
   "source": [
    "# Divide the data into training and testing splits\n",
    "# Use an 80% training and 20% testing split\n",
    "from sklearn.model_selection import train_test_split\n",
    "\n",
    "X = df_scaled[:, :-4] # exclude last 4 columns (ChatGPT helped with this line)\n",
    "y = df_scaled[:, -4:] # extract last 4 columns as target variable\n",
    "\n",
    "# Including seed for reproducibility\n",
    "X_train, X_test, y_train, y_test = train_test_split(X,y,test_size=0.2, random_state=38)\n",
    "\n",
    "# X_train and y_train contain 80%, X_test and y_test contain the remaining 20%"
   ]
  },
  {
   "cell_type": "markdown",
   "metadata": {},
   "source": [
    "# Eileen Choose Between These Below And Implement Above"
   ]
  },
  {
   "cell_type": "code",
   "execution_count": 164,
   "metadata": {},
   "outputs": [
    {
     "data": {
      "text/plain": [
       "((8556, 21), (8556,), (2139, 21), (2139,))"
      ]
     },
     "execution_count": 164,
     "metadata": {},
     "output_type": "execute_result"
    }
   ],
   "source": [
    "# Step 1: Reading the Data \n",
    "df_train_csv: pd.DataFrame = pd.read_csv(\"Dataset/Train.csv\")\n",
    "df_test_csv: pd.DataFrame = pd.read_csv(\"Dataset/Test.csv\")\n",
    "\n",
    "# Step 2: Concatenating Data and Checking Duplicates\n",
    "df_original = pd.concat([df_train_csv, df_test_csv], axis=0)\n",
    "\n",
    "# Step 3: Deleting Unnecessary Columns\n",
    "df_modified = df_original.copy()\n",
    "for col in ['Var_1', 'ID']:\n",
    "    if col in df_modified:\n",
    "        del df_modified[col]\n",
    "\n",
    "# Step 4: Imputation\n",
    "df_modified['Profession'].fillna(df_modified['Profession'].mode()[0], inplace=True)\n",
    "df_modified['Ever_Married'].fillna(df_modified['Ever_Married'].mode()[0], inplace=True)\n",
    "df_modified['Graduated'].fillna(df_modified['Graduated'].mode()[0], inplace=True)\n",
    "df_modified['Work_Experience'].fillna(df_modified['Work_Experience'].mean(), inplace=True)\n",
    "df_modified['Family_Size'].fillna(df_modified['Family_Size'].mean(), inplace=True)\n",
    "\n",
    "# Convert 'Segmentation' column values from A, B, C, D to 0, 1, 2, 3\n",
    "segment_mapping = {'A': 0, 'B': 1, 'C': 2, 'D': 3}\n",
    "df_modified['Segmentation'] = df_modified['Segmentation'].replace(segment_mapping)\n",
    "\n",
    "# Step 5: One-Hot Encoding\n",
    "# We must keep track of our target variable 'Segmentation'. \n",
    "# Separate it before one-hot encoding and then re-add it to the dataframe afterward.\n",
    "target = df_modified['Segmentation']\n",
    "df_modified.drop('Segmentation', axis=1, inplace=True)\n",
    "df_one_hot_encoded = pd.get_dummies(df_modified, drop_first=False)\n",
    "df_one_hot_encoded['Segmentation'] = target\n",
    "\n",
    "# Step 6: Feature Scaling\n",
    "# We'll scale only the features, not the target variable.\n",
    "X = df_one_hot_encoded.drop('Segmentation', axis=1)\n",
    "X_scaled = stdscaler.fit_transform(X)\n",
    "y = df_one_hot_encoded['Segmentation']\n",
    "\n",
    "# Step 7: Train-Test Split\n",
    "# Now, y is a single column of class labels.\n",
    "X_train, X_test, y_train, y_test = train_test_split(X_scaled, y, test_size=0.2, random_state=38)\n",
    "\n",
    "X_train.shape, y_train.shape, X_test.shape, y_test.shape"
   ]
  },
  {
   "cell_type": "code",
   "execution_count": null,
   "metadata": {},
   "outputs": [],
   "source": [
    "from sklearn.impute import KNNImputer\n",
    "\n",
    "# Step 1: Reading the Data \n",
    "df_train_csv: pd.DataFrame = pd.read_csv(\"Dataset/Train.csv\")\n",
    "df_test_csv: pd.DataFrame = pd.read_csv(\"Dataset/Test.csv\")\n",
    "\n",
    "# Step 2: Concatenating Data and Checking Duplicates\n",
    "df_original = pd.concat([df_train_csv, df_test_csv], axis=0)\n",
    "\n",
    "# Step 3: Deleting Unnecessary Columns\n",
    "df_modified = df_original.copy()\n",
    "for col in ['Var_1', 'ID']:\n",
    "    if col in df_modified:\n",
    "        del df_modified[col]\n",
    "\n",
    "# Convert 'Segmentation' column values from A, B, C, D to 0, 1, 2, 3\n",
    "segment_mapping = {'A': 0, 'B': 1, 'C': 2, 'D': 3}\n",
    "df_modified['Segmentation'] = df_modified['Segmentation'].replace(segment_mapping)\n",
    "\n",
    "# Ordinal encoding for Spending_Score\n",
    "spending_mapping = {'Low': 0, 'Average': 1, 'High': 2}\n",
    "df_modified['Spending_Score'] = df_modified['Spending_Score'].replace(spending_mapping)\n",
    "\n",
    "# Adding interaction terms: Age relative to Family Size\n",
    "df_modified['Age_Family_Ratio'] = df_modified['Age'] / (df_modified['Family_Size'] + 1)  # +1 to avoid division by zero\n",
    "\n",
    "# Step 4: One-Hot Encoding\n",
    "df_encoded = pd.get_dummies(df_modified, drop_first=False, columns=['Gender', 'Ever_Married', 'Graduated', 'Profession'])\n",
    "target = df_encoded['Segmentation']\n",
    "df_encoded.drop('Segmentation', axis=1, inplace=True)\n",
    "\n",
    "# Step 5: KNN Imputation\n",
    "knn_imputer = KNNImputer(n_neighbors=5)\n",
    "df_knn_imputed = pd.DataFrame(knn_imputer.fit_transform(df_encoded), columns=df_encoded.columns)\n",
    "df_knn_imputed['Segmentation'] = target.values\n",
    "\n",
    "# Step 6: Feature Scaling\n",
    "X = df_knn_imputed.drop('Segmentation', axis=1)\n",
    "X_scaled = stdscaler.fit_transform(X)\n",
    "y = df_knn_imputed['Segmentation']\n",
    "\n",
    "# Step 7: Train-Test Split\n",
    "X_train, X_test, y_train, y_test = train_test_split(X_scaled, y, test_size=0.2, random_state=38)\n",
    "\n",
    "X_train.shape, y_train.shape, X_test.shape, y_test.shape"
   ]
  },
  {
   "cell_type": "markdown",
   "metadata": {},
   "source": [
    "Argue \"for\" or \"against\" an 80/20 split. Why is the 80/20 split appropriate (or not) for your dataset?"
   ]
  },
  {
   "cell_type": "markdown",
   "metadata": {},
   "source": [
    "# **Combined Class Logistic Regression**"
   ]
  },
  {
   "cell_type": "code",
   "execution_count": 165,
   "metadata": {},
   "outputs": [
    {
     "name": "stdout",
     "output_type": "stream",
     "text": [
      "Help on class MultiClassLogisticRegression in module __main__:\n",
      "\n",
      "class MultiClassLogisticRegression(builtins.object)\n",
      " |  MultiClassLogisticRegression(eta, iterations=10, C=0.1, solver='quasi', penalty='l2', line_iters=0.0)\n",
      " |  \n",
      " |  Methods defined here:\n",
      " |  \n",
      " |  __init__(self, eta, iterations=10, C=0.1, solver='quasi', penalty='l2', line_iters=0.0)\n",
      " |      MultiClassLogisticRegression Constructor\n",
      " |      \n",
      " |      Note: Internally We Will Store The Weights As self.w_ To Keep With Sklearn Conventions\n",
      " |      \n",
      " |      Parameters:\n",
      " |      - eta: Learning Rate\n",
      " |      - iterations: Number Of Iterations (Default: 20)\n",
      " |      - C: Regularization Strength (Default: 0.0001)\n",
      " |      - solver: Optimization Algorithm: ('steepest', 'stochastic', 'newton', 'quasi') (Default: 'quasi')\n",
      " |      - penalty: Regularization Penalty Type: ('none', 'l1', 'l2', 'both') (Default: 'l2')\n",
      " |      - line_iters: Number Iterations For Line Search (If Applicable)\n",
      " |  \n",
      " |  __str__(self)\n",
      " |      Return str(self).\n",
      " |  \n",
      " |  fit(self, X, y)\n",
      " |  \n",
      " |  predict(self, X)\n",
      " |  \n",
      " |  predict_proba(self, X)\n",
      " |  \n",
      " |  ----------------------------------------------------------------------\n",
      " |  Data descriptors defined here:\n",
      " |  \n",
      " |  __dict__\n",
      " |      dictionary for instance variables (if defined)\n",
      " |  \n",
      " |  __weakref__\n",
      " |      list of weak references to the object (if defined)\n",
      "\n"
     ]
    }
   ],
   "source": [
    "# Import Statements\n",
    "\n",
    "# Standard Stuff\n",
    "import numpy as np\n",
    "from numpy import ma # (Masked Array): Has NumPy Functions That Work With NaN Data\n",
    "from numpy.linalg import pinv # Moore-Penrose Pseudoinverse\n",
    "import math\n",
    "\n",
    "# Sklearn Imports \n",
    "from sklearn.datasets import load_iris\n",
    "from sklearn.metrics import accuracy_score\n",
    "from scipy.special import expit\n",
    "from sklearn.model_selection import train_test_split\n",
    "from sklearn.preprocessing import StandardScaler\n",
    "from scipy.optimize import fmin_bfgs, minimize_scalar # BFGS Algorithm: Extremely Common Optimization Algorithm\n",
    "\n",
    "# Scipy Imports\n",
    "from scipy.optimize import minimize_scalar\n",
    "\n",
    "class MultiClassLogisticRegression:\n",
    "\n",
    "    def __init__(self, eta, iterations = 10, C = 0.1, solver = \"quasi\", penalty = \"l2\", line_iters = 0.0):\n",
    "        \"\"\"\n",
    "        MultiClassLogisticRegression Constructor\n",
    "\n",
    "        Note: Internally We Will Store The Weights As self.w_ To Keep With Sklearn Conventions\n",
    "        \n",
    "        Parameters:\n",
    "        - eta: Learning Rate\n",
    "        - iterations: Number Of Iterations (Default: 20)\n",
    "        - C: Regularization Strength (Default: 0.0001)\n",
    "        - solver: Optimization Algorithm: ('steepest', 'stochastic', 'newton', 'quasi') (Default: 'quasi')\n",
    "        - penalty: Regularization Penalty Type: ('none', 'l1', 'l2', 'both') (Default: 'l2')\n",
    "        - line_iters: Number Iterations For Line Search (If Applicable)\n",
    "        \"\"\"\n",
    "        self.eta = eta\n",
    "        self.iters = iterations\n",
    "        self.C = C\n",
    "        self.solver = solver\n",
    "        self.penalty = penalty\n",
    "        self.line_iters = line_iters\n",
    "        self.classifiers_ = []\n",
    "\n",
    "    # Return Trained Status (String)\n",
    "    def __str__(self):\n",
    "        if hasattr(self, 'w_'):\n",
    "            return 'MultiClass Logistic Regression Object With Coefficients:\\n' + str(self.w_)\n",
    "        else:\n",
    "            return 'Untrained MultiClass Logistic Regression Object'\n",
    "\n",
    "    # ==============================\n",
    "    # Convenience Methods (Private):\n",
    "    # ==============================\n",
    "\n",
    "    @staticmethod\n",
    "    def _add_bias(X):\n",
    "\n",
    "        # Add Bias Term\n",
    "        return np.hstack((np.ones((X.shape[0], 1)), X))\n",
    "    \n",
    "    @staticmethod\n",
    "    def _sigmoid(theta):\n",
    "\n",
    "        # Increase Stability, Redefine Sigmoid Operation (1 / (1 + np.exp(-theta)))\n",
    "        return expit(theta)\n",
    "    \n",
    "    # Defines Function With First Input To Be Optimized (Eta)\n",
    "    @staticmethod\n",
    "    def _objective_function_steepest(eta, X, y, w, grad, C, penalty):\n",
    "        wnew = w - grad * eta\n",
    "        g = expit(X @ wnew)\n",
    "\n",
    "        # Regularization\n",
    "        regularization = 0\n",
    "        if penalty == \"l1\":\n",
    "            regularization = C * np.sum(np.abs(wnew))\n",
    "        elif penalty == \"l2\":\n",
    "            regularization = C * np.sum(wnew**2)\n",
    "        elif penalty == \"both\":\n",
    "            regularization = C * (np.sum(np.abs(wnew)) + np.sum(wnew**2))\n",
    "\n",
    "        # The Line Search Looks For Minimization, Take Negative Of Log Likelihood\n",
    "        return -np.sum(ma.log(g[y == 1])) - ma.sum(np.log(1 - g[y == 0])) + regularization\n",
    "    \n",
    "    @staticmethod\n",
    "    def _objective_function_bfgs(w, X, y, C, penalty):\n",
    "        g = expit(X @ w)\n",
    "        \n",
    "        # Regularization\n",
    "        regularization = 0\n",
    "        if penalty == \"l1\":\n",
    "            regularization = C * np.sum(np.abs(w))\n",
    "        elif penalty == \"l2\":\n",
    "            regularization = C * np.sum(w**2)\n",
    "        elif penalty == \"both\":\n",
    "            regularization = C * (np.sum(np.abs(w)) + np.sum(w**2))\n",
    "        \n",
    "        return -np.sum(ma.log(g[y == 1])) - np.sum(ma.log(1 - g[y == 0])) + regularization\n",
    "\n",
    "    @staticmethod\n",
    "    def _objective_gradient_bfgs(w, X, y, C, penalty):\n",
    "        g = expit(X @ w)\n",
    "        ydiff = y - g\n",
    "        gradient = np.mean(X * ydiff[:, np.newaxis], axis=0)\n",
    "        \n",
    "        # Regularization\n",
    "        gradient = gradient.reshape(w.shape)\n",
    "        if penalty == \"l1\":\n",
    "            gradient[1:] += -C * np.sign(w[1:])\n",
    "        elif penalty == \"l2\":\n",
    "            gradient[1:] += -2 * C * w[1:]\n",
    "        elif penalty == \"both\":\n",
    "            gradient[1:] += -C * (np.sign(w[1:]) + 2 * w[1:])\n",
    "        \n",
    "        return -gradient\n",
    "\n",
    "    # ============================\n",
    "    # Binary Probability Functions\n",
    "    # ============================\n",
    "\n",
    "    def _predict_proba_binary(self, X, w, add_bias = True):\n",
    "\n",
    "        # Add Bias Term If Requested\n",
    "        Xb = self._add_bias(X) if add_bias else X\n",
    "\n",
    "        # Return Probability Of Class 1\n",
    "        return self._sigmoid(Xb @ w)\n",
    "    \n",
    "    def _predict_binary(self, X):\n",
    "\n",
    "        # Return Actual Prediction\n",
    "        return (self._predict_proba_binary(X, self.w_) > 0.5)\n",
    "    \n",
    "    # ==================\n",
    "    # Gradient Functions\n",
    "    # ==================\n",
    "\n",
    "    # Vectorized Gradient Calculation With Chosen Regularization\n",
    "    def _get_gradient(self, X, y):\n",
    "\n",
    "        # Get Difference, Make Column Vector And Multiply Through\n",
    "        ydiff = y - self._predict_proba_binary(X, self.w_, add_bias = False).ravel()\n",
    "        gradient = np.mean(X * ydiff[:, np.newaxis], axis = 0)\n",
    "        \n",
    "        # Regularization\n",
    "        gradient = gradient.reshape(self.w_.shape)\n",
    "        if self.penalty == \"l1\":\n",
    "            gradient[1:] += -self.C * np.sign(self.w_[1:])\n",
    "        elif self.penalty == \"l2\":\n",
    "            gradient[1:] += -2 * self.C * self.w_[1:]\n",
    "        elif self.penalty == \"both\":\n",
    "            gradient[1:] += -self.C * (np.sign(self.w_[1:]) + 2 * self.w_[1:])\n",
    "        \n",
    "        # Return Gradient\n",
    "        return gradient\n",
    "    \n",
    "    # Stochastic Gradient Calculation\n",
    "    def _get_gradient_stochastic(self, X, y):\n",
    "\n",
    "        # Grab Random Instance, Get Difference, Make Column Vector And Multiply Through\n",
    "        # np.random.seed(0) # For Debugging\n",
    "        idx = int(np.random.rand() * len(y))\n",
    "        ydiff = y[idx] - self._predict_proba_binary(X[idx], self.w_, add_bias = False) \n",
    "        gradient = X[idx] * ydiff[:, np.newaxis]\n",
    "        \n",
    "        # Regularization\n",
    "        gradient = gradient.reshape(self.w_.shape)\n",
    "        if self.penalty == \"l1\":\n",
    "            gradient[1:] += -self.C * np.sign(self.w_[1:])\n",
    "        elif self.penalty == \"l2\":\n",
    "            gradient[1:] += -2 * self.C * self.w_[1:]\n",
    "        elif self.penalty == \"both\":\n",
    "            gradient[1:] += -self.C * (np.sign(self.w_[1:]) + 2 * self.w_[1:])\n",
    "        \n",
    "        # Return Gradient\n",
    "        return gradient\n",
    "    \n",
    "    # Newton's Method Gradient Calculation\n",
    "    def _get_gradient_newton(self, X, y):\n",
    "\n",
    "        # Get Sigmoid Value For All Classes, Calculate Hessian\n",
    "        # Get Difference, Make Column Vector And Multiply Through\n",
    "        g = self._predict_proba_binary(X, self.w_, add_bias = False).ravel()\n",
    "        hessian = X.T @ np.diag(g * (1 - g)) @ X - 2 * self.C\n",
    "        ydiff = y - g\n",
    "        gradient = np.sum(X * ydiff[:, np.newaxis], axis = 0)\n",
    "        \n",
    "        # Regularization\n",
    "        gradient = gradient.reshape(self.w_.shape)\n",
    "        if self.penalty == \"l1\":\n",
    "            gradient[1:] += -self.C * np.sign(self.w_[1:])\n",
    "        elif self.penalty == \"l2\":\n",
    "            gradient[1:] += -2 * self.C * self.w_[1:]\n",
    "        elif self.penalty == \"both\":\n",
    "            gradient[1:] += -self.C * (np.sign(self.w_[1:]) + 2 * self.w_[1:])\n",
    "        \n",
    "        # Return Gradient\n",
    "        return pinv(hessian) @ gradient\n",
    "    \n",
    "    # ==============\n",
    "    # Fit Functions\n",
    "    # ==============\n",
    "\n",
    "    def _fit_binary(self, X, y):\n",
    "\n",
    "        # Add Bias Term\n",
    "        Xb = self._add_bias(X)\n",
    "        num_samples, num_features = Xb.shape\n",
    "        \n",
    "        # Initialize Weight Vectors To Zeros\n",
    "        self.w_ = np.zeros((num_features, 1))\n",
    "        \n",
    "        # For Each Iteration (As Many As Max Iterations)\n",
    "        for _ in range(self.iters):\n",
    "            \n",
    "            # Depending On Solver, Change Gradient Calculation\n",
    "            if self.solver == \"stochastic\":\n",
    "                # print(\"Stochastic Gradient Ascent Method\")\n",
    "                gradient = self._get_gradient_stochastic(Xb, y)\n",
    "            elif self.solver == \"newton\":\n",
    "                # print(\"Newton Method\")\n",
    "                gradient = self._get_gradient_newton(Xb, y)\n",
    "            else:\n",
    "                gradient = self._get_gradient(Xb, y)\n",
    "\n",
    "            # Multiply By Learning Rate, Add B/C Maximizing\n",
    "            self.w_ += gradient*self.eta\n",
    "\n",
    "    def _fit_steepest(self, X, y):\n",
    "\n",
    "         # Add Bias Term\n",
    "        Xb = self._add_bias(X)\n",
    "        num_samples, num_features = Xb.shape\n",
    "        \n",
    "        # Initialize Weight Vectors To Zeros\n",
    "        self.w_ = np.zeros((num_features, 1))\n",
    "        \n",
    "        # For Each Iteration (As Many As Max Iterations)\n",
    "        for _ in range(self.iters):\n",
    "\n",
    "            # Get Gradient (Use Base Solver Since Steepest)\n",
    "            # Minimization In Opposite Direction\n",
    "            gradient = -self._get_gradient(Xb, y)\n",
    "            \n",
    "            # Do Line Search In Gradient Direction, Using Scipy Function\n",
    "            opts = {'maxiter' : self.line_iters}\n",
    "\n",
    "            # Minimize Scalar Function (Line Search)\n",
    "            res = minimize_scalar(self._objective_function_steepest,                                # Objective Function To Optimize\n",
    "                                  bounds = (0, self.eta * 10),                                      # Bounds To Optimize Over\n",
    "                                  args = (Xb, y, self.w_, gradient, self.C, self.penalty),          # Additional Argument For Objective Function\n",
    "                                  method = 'bounded',                                               # Bounded Optimization For Speed\n",
    "                                  options = opts)                                                   # Set Maximum Iterations\n",
    "            \n",
    "            # Get Optimal Learning Rate, Set New Function Values, Subtract To Minimize\n",
    "            eta = res.x\n",
    "            self.w_ -= gradient * eta\n",
    "\n",
    "    def _fit_bfgs(self, X, y):\n",
    "\n",
    "        # Add Bias Term\n",
    "        Xb = self._add_bias(X)\n",
    "        num_samples, num_features = Xb.shape\n",
    "        \n",
    "        self.w_ = fmin_bfgs(self._objective_function_bfgs,                      # What To Optimize\n",
    "                            np.zeros((num_features, 1)),                        # Starting Point\n",
    "                            fprime = self._objective_gradient_bfgs,             # Gradient Function\n",
    "                            args = (Xb, y, self.C, self.penalty),               # Extra Arguments For Gradient, Objective Function\n",
    "                            gtol = 1e-03,                                       # Stopping Criteria For Gradient\n",
    "                            maxiter = self.iters,                               # Stopping Criteria Iterations\n",
    "                            disp = False)\n",
    "        \n",
    "        self.w_ = self.w_.reshape((num_features, 1))\n",
    "    \n",
    "    # =================\n",
    "    # Public Functions:\n",
    "    # =================\n",
    "    \n",
    "    def predict_proba(self, X):\n",
    "\n",
    "        # Initialize Probabilities\n",
    "        probs = []\n",
    "\n",
    "        # Get Probability For Each Classifier\n",
    "        for w in self.classifiers_:\n",
    "            probs.append(self._predict_proba_binary(X, w).reshape((len(X), 1)))\n",
    "\n",
    "        # Make Into Single Matrix\n",
    "        return np.hstack(probs)\n",
    "    \n",
    "    def predict(self, X):\n",
    "\n",
    "        # Take Argmax Along Row\n",
    "        return np.argmax(self.predict_proba(X), axis = 1)\n",
    "\n",
    "    def fit(self, X, y):\n",
    "\n",
    "        # Store Unique Classes\n",
    "        num_samples, num_features = X.shape\n",
    "        self.unique_ = np.sort(np.unique(y))\n",
    "        num_unique_classes = len(self.unique_)\n",
    "        self.classifiers_ = []\n",
    "\n",
    "        # For Each Unique Value\n",
    "        for i, yval in enumerate(self.unique_):\n",
    "\n",
    "            # Create Binary Problem\n",
    "            y_binary = np.array(y == yval).astype(int)\n",
    "            \n",
    "            # Train Binary Classifier For Class\n",
    "            if self.solver == \"steepest\":\n",
    "                # print(\"Steepest Ascent Method\")\n",
    "                self._fit_steepest(X, y_binary)\n",
    "            elif self.solver == \"quasi\":\n",
    "                # print(\"Quasi-Newton Method\")\n",
    "                self._fit_bfgs(X, y_binary)\n",
    "            else:\n",
    "                self._fit_binary(X, y_binary)\n",
    "\n",
    "            # Add Trained Classifier To List\n",
    "            self.classifiers_.append(self.w_)\n",
    "            \n",
    "        # Save All Weights Into One Matrix, Separate Column For Each Class\n",
    "        self.w_ = np.hstack([w for w in self.classifiers_]).T\n",
    "\n",
    "# Check Class Help\n",
    "help(MultiClassLogisticRegression)"
   ]
  },
  {
   "cell_type": "markdown",
   "metadata": {},
   "source": [
    "Regularization of Intercept: As I mentioned earlier, typically in logistic regression, the intercept (or bias term) isn't regularized. You've correctly skipped the regularization for the intercept in the gradient, but make sure this is consistent across all parts of your implementation.\n",
    "\n",
    "Regularization Strength: The regularization strength C in many libraries (like scikit-learn) is the inverse of the regularization term. That is, smaller values of C mean stronger regularization. Ensure you're using it in the manner you expect. In your objective function, a direct multiplication is a bit more intuitive, so larger values of C imply stronger regularization.\n",
    "\n",
    "Stability with expit: The expit function is a stable version of the logistic sigmoid, so that's good. However, when working with very small or very large values, you might run into numerical stability issues. The expit function usually handles these well, but be cautious if you see any NaN or Inf values.\n",
    "\n",
    "Scaling with Regularization: When using regularization, it's often a good idea to scale your features so that they have the same scale. This ensures that the regularization strength is applied uniformly to all features. If you haven't done this yet, consider using something like StandardScaler from scikit-learn on your features (but not the target) before training.\n",
    "\n",
    "Convergence Criteria: The BFGS method you're using for optimization requires careful tuning. Ensure your stopping criteria (gtol, maxiter, etc.) are set appropriately. If the method isn't converging, consider adjusting these parameters."
   ]
  },
  {
   "cell_type": "markdown",
   "metadata": {},
   "source": [
    "# **Lol We Both Suck (Not Deep Learning Sucks)**"
   ]
  },
  {
   "cell_type": "code",
   "execution_count": 171,
   "metadata": {},
   "outputs": [
    {
     "name": "stdout",
     "output_type": "stream",
     "text": [
      "MultiClass Logistic Regression Object With Coefficients:\n",
      "[[-1.07900037 -0.02803355  0.04175965 -0.15124947 -0.00809485  0.00809485\n",
      "  -0.02284706  0.02284706  0.02104246 -0.02104246 -0.00655953  0.04865369\n",
      "   0.12026522  0.15242313  0.0101132  -0.2850175   0.01921966  0.06164299\n",
      "  -0.05614553 -0.14217023 -0.01104274  0.13292666]\n",
      " [-1.29694335  0.13269688 -0.03939348 -0.03214726  0.00252068 -0.00252068\n",
      "  -0.06063007  0.06063007 -0.05230022  0.05230022  0.10731913  0.01422686\n",
      "   0.09380297  0.02646469  0.03725489 -0.20309633  0.02321457 -0.07212161\n",
      "  -0.04395976  0.01493901  0.04456466 -0.04568421]\n",
      " [-1.41375665  0.25593254 -0.06075844  0.17311943  0.04805956 -0.04805956\n",
      "  -0.03688642  0.03688642 -0.16653527  0.16653527  0.23527714  0.0096252\n",
      "  -0.14218966 -0.05804412  0.01717794 -0.0680758  -0.05058126 -0.06550915\n",
      "  -0.03686725  0.18872329  0.05994427 -0.20954417]\n",
      " [-1.17678406 -0.37010624  0.07704939 -0.02023811 -0.04771391  0.04771391\n",
      "   0.08401714 -0.08401714  0.14936837 -0.14936837 -0.35197176 -0.01007849\n",
      "  -0.03802125 -0.05788848  0.01883255  0.34189655  0.01934028  0.14391152\n",
      "   0.12385868 -0.11559865 -0.09871096  0.17365196]]\n",
      "Accuracy: 0.4820009350\n",
      "CPU times: total: 0 ns\n",
      "Wall time: 113 ms\n"
     ]
    }
   ],
   "source": [
    "%%time\n",
    "# def __init__(self, eta, iterations = 20, C = 0.0001, solver = \"quasi\", penalty = \"l2\", line_iters = 10):\n",
    "# Instantiate Object\n",
    "lr = MultiClassLogisticRegression(eta = 1.0, iterations = 10, C = 0.01, solver = 'quasi', penalty = 'l2')\n",
    "\n",
    "# Fit Model\n",
    "lr.fit(X_train, y_train)\n",
    "\n",
    "# Print Coefficients\n",
    "print(lr)\n",
    "\n",
    "# Predict\n",
    "y_pred = lr.predict(X_test)\n",
    "\n",
    "# Accuracy\n",
    "print('Accuracy: %.10f' % accuracy_score(y_test, y_pred))"
   ]
  },
  {
   "cell_type": "markdown",
   "metadata": {},
   "source": [
    "https://www.kaggle.com/code/mauricioasperti/automobile-customer-segmentation-classification\n",
    "\n",
    "Same accuracy as this bro too :("
   ]
  },
  {
   "cell_type": "code",
   "execution_count": 168,
   "metadata": {},
   "outputs": [
    {
     "name": "stdout",
     "output_type": "stream",
     "text": [
      "[[-0.06901667  0.04262039 -0.16616973 -0.01000321  0.01000321 -0.03117368\n",
      "   0.03117368  0.02273964 -0.02273964 -0.00339788  0.05039281  0.13159111\n",
      "   0.16553791  0.01744895 -0.32870417  0.01862981  0.08528706 -0.06348285\n",
      "  -0.15387154 -0.01182197  0.14377244]\n",
      " [ 0.16398646 -0.03904991 -0.02037353  0.0025656  -0.0025656  -0.05300237\n",
      "   0.05300237 -0.05268677  0.05268677  0.12311655  0.02187939  0.10714134\n",
      "   0.03082743  0.0373401  -0.23113777  0.02938387 -0.09016526 -0.04697565\n",
      "   0.01248601  0.04894589 -0.04673138]\n",
      " [ 0.34216404 -0.0537094   0.20716559  0.05214842 -0.05214842 -0.01175279\n",
      "   0.01175279 -0.17307234  0.17307234  0.25538012  0.01687297 -0.15526577\n",
      "  -0.06743049  0.01590004 -0.05008952 -0.05361243 -0.10484096 -0.03659197\n",
      "   0.20584492  0.06549509 -0.22863692]\n",
      " [-0.54511508  0.07576082 -0.04368945 -0.04927724  0.04927724  0.0533843\n",
      "  -0.0533843   0.14165799 -0.14165799 -0.3905289  -0.03571524 -0.0538686\n",
      "  -0.07817714  0.04166582  0.34464985  0.01160555  0.25460851  0.12823636\n",
      "  -0.10905127 -0.11793019  0.1819458 ]]\n",
      "Accuracy of:  0.48620850864890136\n",
      "CPU times: total: 0 ns\n",
      "Wall time: 49.6 ms\n"
     ]
    }
   ],
   "source": [
    "%%time\n",
    "# how do we compare now to sklearn?\n",
    "from sklearn.linear_model import LogisticRegression\n",
    "\n",
    "lr_sk = LogisticRegression(solver='lbfgs',n_jobs=1,\n",
    "                           multi_class='ovr', C = 0.1, \n",
    "                           penalty='l2',\n",
    "                          max_iter=50) # all params default\n",
    "# note that sklearn is optimized for using the liblinear library with logistic regression\n",
    "# ...and its faster than our implementation here\n",
    "\n",
    "lr_sk.fit(X_train, y_train) # no need to add bias term, sklearn does it internally!!\n",
    "print(lr_sk.coef_)\n",
    "yhat = lr_sk.predict(X_test)\n",
    "print('Accuracy of: ',accuracy_score(y_test,yhat))"
   ]
  },
  {
   "cell_type": "code",
   "execution_count": 169,
   "metadata": {},
   "outputs": [
    {
     "name": "stdout",
     "output_type": "stream",
     "text": [
      "[[-0.07206141  0.04256078 -0.16702921 -0.01011622  0.01011622 -0.0317784\n",
      "   0.0317784   0.02291129 -0.02291129 -0.00287124  0.05055367  0.1323789\n",
      "   0.16645318  0.0179443  -0.33220246  0.01864877  0.08700519 -0.06405732\n",
      "  -0.15492549 -0.01174481  0.14464168]\n",
      " [ 0.16586491 -0.03922889 -0.01991737  0.00245528 -0.00245528 -0.05258042\n",
      "   0.05258042 -0.05263809  0.05263809  0.12411146  0.02242876  0.10811091\n",
      "   0.03135056  0.03743994 -0.2333251   0.02989485 -0.09134306 -0.04723891\n",
      "   0.01215407  0.04923956 -0.04665446]\n",
      " [ 0.34898223 -0.05331079  0.20998223  0.05242326 -0.05242326 -0.00967079\n",
      "   0.00967079 -0.17367446  0.17367446  0.25665608  0.01762614 -0.15661161\n",
      "  -0.06764572  0.01583352 -0.04903575 -0.05372468 -0.10749386 -0.03658531\n",
      "   0.20702654  0.0657889  -0.22988935]\n",
      " [-0.55887342  0.07593905 -0.04611329 -0.04945509  0.04945509  0.05108125\n",
      "  -0.05108125  0.14111652 -0.14111652 -0.39421162 -0.03699129 -0.05446473\n",
      "  -0.07908439  0.04364819  0.34408588  0.01100158  0.2629806   0.12869058\n",
      "  -0.10878506 -0.11985148  0.18311594]]\n",
      "Accuracy of:  0.485273492286115\n",
      "CPU times: total: 62.5 ms\n",
      "Wall time: 72.2 ms\n"
     ]
    }
   ],
   "source": [
    "%%time\n",
    "# actually, we aren't quite as good as the lib linear implementation\n",
    "# how do we compare now to sklearn?\n",
    "from sklearn.linear_model import LogisticRegression\n",
    "\n",
    "lr_sk = LogisticRegression(solver='liblinear',n_jobs=1, \n",
    "                           multi_class='ovr', C = 1/0.001, \n",
    "                           penalty='l2',max_iter=100) \n",
    "\n",
    "lr_sk.fit(X_train,y_train) # no need to add bias term, sklearn does it internally!!\n",
    "print(lr_sk.coef_)\n",
    "yhat = lr_sk.predict(X_test)\n",
    "print('Accuracy of: ',accuracy_score(y_test,yhat))"
   ]
  }
 ],
 "metadata": {
  "kernelspec": {
   "display_name": "mlenv2023",
   "language": "python",
   "name": "python3"
  },
  "language_info": {
   "codemirror_mode": {
    "name": "ipython",
    "version": 3
   },
   "file_extension": ".py",
   "mimetype": "text/x-python",
   "name": "python",
   "nbconvert_exporter": "python",
   "pygments_lexer": "ipython3",
   "version": "3.9.18"
  },
  "orig_nbformat": 4
 },
 "nbformat": 4,
 "nbformat_minor": 2
}
